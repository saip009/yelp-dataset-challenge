{
 "cells": [
  {
   "cell_type": "markdown",
   "metadata": {},
   "source": [
    "# Predicting checkin from restaurant neighborhood and categories\n",
    "In this notebook we try to predict the number of checkins a restaurant had based on the neighborhood it is in and the categories (cusines) it has."
   ]
  },
  {
   "cell_type": "markdown",
   "metadata": {},
   "source": [
    "## Loading the dataset\n",
    "Since we only care about the restaurants, we can filter the `yelp_academic_dataset_business.json` to exclude businesses without one of the following categories:\n",
    "- Restaurant\n",
    "- Food\n",
    "- Bar"
   ]
  },
  {
   "cell_type": "code",
   "execution_count": 1,
   "metadata": {},
   "outputs": [],
   "source": [
    "import itertools as it\n",
    "import json\n",
    "import pandas as pd\n",
    "import pyspark as spark\n",
    "import pyspark.sql.functions as F"
   ]
  },
  {
   "cell_type": "code",
   "execution_count": 2,
   "metadata": {},
   "outputs": [],
   "source": [
    "restaurant_categories = {'restaurants', 'food', 'bars'}\n",
    "restaurants = sc.textFile('../data/raw/yelp_academic_dataset_business.json') \\\n",
    "    .map(lambda row: json.loads(row)) \\\n",
    "    .filter(lambda business: business['categories'] is not None and business.get('is_open', 0)) \\\n",
    "    .filter(lambda business: restaurant_categories & {x.strip().lower() for x in business['categories'].split(',')})"
   ]
  },
  {
   "cell_type": "markdown",
   "metadata": {},
   "source": [
    "We can load the checkins from `yelp_academic_dataset_checkin.json`."
   ]
  },
  {
   "cell_type": "code",
   "execution_count": 3,
   "metadata": {},
   "outputs": [],
   "source": [
    "checkin = sc.textFile('../data/raw/yelp_academic_dataset_checkin.json') \\\n",
    "    .map(lambda row: json.loads(row)) \\\n",
    "    .map(lambda checkin: (checkin['business_id'], sum(checkin['time'].values())))"
   ]
  },
  {
   "cell_type": "markdown",
   "metadata": {},
   "source": [
    "The number of restaurants and checkins are:"
   ]
  },
  {
   "cell_type": "code",
   "execution_count": 4,
   "metadata": {},
   "outputs": [
    {
     "data": {
      "text/plain": [
       "(55743, 157075)"
      ]
     },
     "execution_count": 4,
     "metadata": {},
     "output_type": "execute_result"
    }
   ],
   "source": [
    "restaurants.count(), checkin.count()"
   ]
  },
  {
   "cell_type": "markdown",
   "metadata": {},
   "source": [
    "We can add the checkin value of a restaurant into the restaurant object."
   ]
  },
  {
   "cell_type": "code",
   "execution_count": 5,
   "metadata": {},
   "outputs": [],
   "source": [
    "def get_restaurants_with_checkins(restaurants, checkin):\n",
    "    keyed_restaurants = restaurants.keyBy(lambda r: r['business_id'])\n",
    "    def update_restaurant(restaurant, checkin):\n",
    "        restaurant['checkin'] = checkin\n",
    "        return restaurant\n",
    "    return checkin.join(keyed_restaurants).map(lambda tup: update_restaurant(tup[1][1], tup[1][0]))\n",
    "\n",
    "restaurants = get_restaurants_with_checkins(restaurants, checkin).cache()"
   ]
  },
  {
   "cell_type": "markdown",
   "metadata": {},
   "source": [
    "Number of restaurants with checkin data:"
   ]
  },
  {
   "cell_type": "code",
   "execution_count": 6,
   "metadata": {},
   "outputs": [
    {
     "data": {
      "text/plain": [
       "54087"
      ]
     },
     "execution_count": 6,
     "metadata": {},
     "output_type": "execute_result"
    }
   ],
   "source": [
    "restaurants.count()"
   ]
  },
  {
   "cell_type": "markdown",
   "metadata": {},
   "source": [
    "## Checking Predictions\n",
    "We now try to model the checkins of a restaurant as a naive bayes classifier on the categories and neighborhoods. For now, we will discard all restaurants without any neighborhoods.\n",
    "\n",
    "We will also confine ourselfes to one city at a time. First let's look at Toronto."
   ]
  },
  {
   "cell_type": "code",
   "execution_count": 7,
   "metadata": {},
   "outputs": [
    {
     "data": {
      "text/plain": [
       "5495"
      ]
     },
     "execution_count": 7,
     "metadata": {},
     "output_type": "execute_result"
    }
   ],
   "source": [
    "toronto = restaurants.filter(lambda r: r['city'] == 'Toronto' and r['neighborhood']).cache()\n",
    "toronto.count()"
   ]
  },
  {
   "cell_type": "markdown",
   "metadata": {},
   "source": [
    "Before we try to predict the checkin, we may need to normalize it on a per city basis. Let's have a look at the distribution of the checkin data."
   ]
  },
  {
   "cell_type": "code",
   "execution_count": 8,
   "metadata": {},
   "outputs": [
    {
     "data": {
      "text/plain": [
       "<Figure size 640x480 with 1 Axes>"
      ]
     },
     "metadata": {},
     "output_type": "display_data"
    }
   ],
   "source": [
    "import numpy as np\n",
    "import math\n",
    "from matplotlib import pyplot as plt\n",
    "\n",
    "def plot_checkin_distr(restaurants, num_bins):\n",
    "    checkins = np.array(restaurants.map(lambda r: r['checkin']).collect())\n",
    "    c_min, c_max, c_mean = min(checkins), max(checkins), np.mean(checkins)\n",
    "    bins = np.linspace(math.ceil(c_min), math.floor(c_max), num_bins)\n",
    "    plt.xlim([c_min - c_mean, c_max + c_mean / 2])\n",
    "    plt.hist(checkins, bins=bins, alpha=0.5)\n",
    "    plt.xlabel('Checkins')\n",
    "    plt.ylabel('Count')\n",
    "    plt.show()\n",
    "\n",
    "plot_checkin_distr(toronto, 25)"
   ]
  },
  {
   "cell_type": "markdown",
   "metadata": {},
   "source": [
    "The distribution doesn't look like a normal distribution, but looks exponential. Let's try to fit an exponential distribution to our data. To compare against a fitted distribution, we also need to normalize that counts to between 0, and 1."
   ]
  },
  {
   "cell_type": "code",
   "execution_count": 9,
   "metadata": {},
   "outputs": [
    {
     "data": {
      "image/png": "[encoded data removed]",
      "text/plain": [
       "<Figure size 432x288 with 1 Axes>"
      ]
     },
     "metadata": {},
     "output_type": "display_data"
    }
   ],
   "source": [
    "from scipy.stats import expon\n",
    "\n",
    "def fit_checkin_distr(restaurants, num_bins):\n",
    "    checkins = np.array(restaurants.map(lambda r: r['checkin']).collect())\n",
    "    c_min, c_max, c_mean = min(checkins), max(checkins), np.mean(checkins)\n",
    "    bins = np.linspace(math.ceil(c_min), math.floor(c_max), num_bins)\n",
    "    \n",
    "    # Fit to exponential distribion\n",
    "    loc, scale = expon.fit(checkins)\n",
    "    fitted_pdf = expon.pdf(bins, loc=loc, scale=scale)\n",
    "    \n",
    "    # Plot the distributions\n",
    "    plt.xlim([c_min - c_mean, c_max + c_mean / 2])\n",
    "    plt.hist(checkins, bins=bins, alpha=0.5, density=True)\n",
    "    plt.plot(bins, fitted_pdf, 'r+')\n",
    "    plt.xlabel('Checkins')\n",
    "    plt.ylabel('Count')\n",
    "    plt.show()\n",
    "    return scale\n",
    "\n",
    "scale = fit_checkin_distr(toronto, 100)"
   ]
  },
  {
   "cell_type": "markdown",
   "metadata": {},
   "source": [
    "To create equal sized bins for a distribution, we can use the quantile function for the distribution. The below function implements the quantile function for an exponential distribution (see [wikipedia](https://en.wikipedia.org/wiki/Exponential_distribution#Quantiles))."
   ]
  },
  {
   "cell_type": "code",
   "execution_count": 10,
   "metadata": {},
   "outputs": [
    {
     "data": {
      "text/plain": [
       "array([ -0.        ,   9.36889864,  19.84243625,  31.71635387,\n",
       "        45.42378579,  61.63623668,  81.47867293, 107.06002246,\n",
       "       143.1149096 , 204.75114628])"
      ]
     },
     "execution_count": 10,
     "metadata": {},
     "output_type": "execute_result"
    }
   ],
   "source": [
    "def get_checkin_bins(num_bins, scale):\n",
    "    # scale is equal to 1/lambda according to http://reliawiki.org/index.php/The_Exponential_Distribution\n",
    "    ret = []\n",
    "    for i in range(num_bins):\n",
    "        p = i / num_bins\n",
    "        ret.append(-math.log(1 - p) * scale)\n",
    "    return np.array(ret)\n",
    "\n",
    "get_checkin_bins(10, scale)"
   ]
  },
  {
   "cell_type": "markdown",
   "metadata": {},
   "source": [
    "To create the classifier, we also need to choose the categories we intend to use."
   ]
  },
  {
   "cell_type": "code",
   "execution_count": 11,
   "metadata": {},
   "outputs": [],
   "source": [
    "all_categories = toronto \\\n",
    "    .flatMap(lambda r: ((c.strip().lower(), 1) for c in r['categories'].split(','))) \\\n",
    "    .countByKey()"
   ]
  },
  {
   "cell_type": "code",
   "execution_count": 26,
   "metadata": {
    "scrolled": true
   },
   "outputs": [
    {
     "data": {
      "text/plain": [
       "[('restaurants', 4002),\n",
       " ('food', 2188),\n",
       " ('nightlife', 872),\n",
       " ('bars', 858),\n",
       " ('coffee & tea', 762),\n",
       " ('specialty food', 445),\n",
       " ('sandwiches', 392),\n",
       " ('breakfast & brunch', 367),\n",
       " ('chinese', 348),\n",
       " ('cafes', 343),\n",
       " ('canadian (new)', 336),\n",
       " ('bakeries', 317),\n",
       " ('fast food', 298),\n",
       " ('pizza', 292),\n",
       " ('desserts', 281),\n",
       " ('italian', 276),\n",
       " ('japanese', 271),\n",
       " ('burgers', 242),\n",
       " ('pubs', 241),\n",
       " ('grocery', 213),\n",
       " ('american (traditional)', 207),\n",
       " ('sushi bars', 194),\n",
       " ('event planning & services', 173),\n",
       " ('indian', 157),\n",
       " ('juice bars & smoothies', 153),\n",
       " ('asian fusion', 151),\n",
       " ('korean', 149),\n",
       " ('mexican', 148),\n",
       " ('middle eastern', 144),\n",
       " ('thai', 142),\n",
       " ('mediterranean', 142),\n",
       " ('salad', 140),\n",
       " ('chicken wings', 138),\n",
       " ('ice cream & frozen yogurt', 138),\n",
       " ('seafood', 134),\n",
       " ('beer', 115),\n",
       " ('wine & spirits', 115),\n",
       " ('vegetarian', 112),\n",
       " ('caterers', 108),\n",
       " ('arts & entertainment', 108),\n",
       " ('lounges', 104),\n",
       " ('cocktail bars', 103),\n",
       " ('comfort food', 102),\n",
       " ('vegan', 101),\n",
       " ('greek', 99),\n",
       " ('sports bars', 98),\n",
       " ('shopping', 96),\n",
       " ('barbeque', 91),\n",
       " ('vietnamese', 89),\n",
       " ('health markets', 85),\n",
       " ('diners', 81),\n",
       " ('caribbean', 79),\n",
       " ('french', 78),\n",
       " ('american (new)', 77),\n",
       " ('halal', 77),\n",
       " ('ethnic food', 74),\n",
       " ('wine bars', 74),\n",
       " ('gluten-free', 73),\n",
       " ('delis', 70),\n",
       " ('tea rooms', 67),\n",
       " ('gastropubs', 66),\n",
       " ('dive bars', 59),\n",
       " ('food delivery services', 58),\n",
       " ('music venues', 56),\n",
       " ('meat shops', 55),\n",
       " ('imported food', 54),\n",
       " ('tapas/small plates', 53),\n",
       " ('soup', 52),\n",
       " ('steakhouses', 51),\n",
       " ('venues & event spaces', 50),\n",
       " ('bubble tea', 50),\n",
       " ('convenience stores', 48),\n",
       " ('dim sum', 45),\n",
       " ('noodles', 44),\n",
       " ('donuts', 42),\n",
       " ('chicken shop', 41),\n",
       " ('portuguese', 39),\n",
       " ('chocolatiers & shops', 39),\n",
       " ('breweries', 38),\n",
       " ('ramen', 37),\n",
       " ('tapas bars', 36),\n",
       " ('food court', 36),\n",
       " ('beer bar', 36),\n",
       " ('latin american', 35),\n",
       " ('cheese shops', 33),\n",
       " ('fruits & veggies', 33),\n",
       " ('bagels', 32),\n",
       " ('pakistani', 32),\n",
       " ('organic stores', 32),\n",
       " ('fish & chips', 29),\n",
       " ('dance clubs', 29),\n",
       " ('food stands', 28),\n",
       " ('seafood markets', 28),\n",
       " ('taiwanese', 28),\n",
       " ('butcher', 27),\n",
       " ('food trucks', 27),\n",
       " ('modern european', 25),\n",
       " ('poutineries', 25),\n",
       " ('tex-mex', 24),\n",
       " ('british', 24),\n",
       " ('street vendors', 23),\n",
       " ('creperies', 22),\n",
       " ('farmers market', 22),\n",
       " ('southern', 22),\n",
       " ('coffee roasteries', 21),\n",
       " ('filipino', 21),\n",
       " ('african', 20),\n",
       " ('patisserie/cake shop', 20),\n",
       " ('hot dogs', 18),\n",
       " ('cajun/creole', 18),\n",
       " ('irish', 18),\n",
       " ('poke', 18),\n",
       " ('ethiopian', 17),\n",
       " ('afghan', 17),\n",
       " ('turkish', 16),\n",
       " ('health & medical', 16),\n",
       " ('hotels & travel', 16),\n",
       " ('candy stores', 16),\n",
       " ('falafel', 16),\n",
       " ('internet cafes', 16),\n",
       " ('delicatessen', 16),\n",
       " ('hot pot', 16),\n",
       " ('spanish', 15),\n",
       " ('local flavor', 15),\n",
       " ('himalayan/nepalese', 14),\n",
       " ('buffets', 14),\n",
       " ('hawaiian', 14),\n",
       " ('flowers & gifts', 13),\n",
       " ('active life', 13),\n",
       " ('karaoke', 13),\n",
       " ('lebanese', 13),\n",
       " ('party & event planning', 12),\n",
       " ('hotels', 12),\n",
       " ('persian/iranian', 12),\n",
       " ('polish', 12),\n",
       " ('waffles', 12),\n",
       " ('soul food', 12),\n",
       " ('beauty & spas', 11),\n",
       " ('gay bars', 11),\n",
       " ('malaysian', 11),\n",
       " ('do-it-yourself food', 11),\n",
       " ('sri lankan', 11),\n",
       " ('local services', 11),\n",
       " ('live/raw food', 10),\n",
       " ('hookah bars', 10),\n",
       " ('fashion', 10),\n",
       " ('international', 10),\n",
       " ('brasseries', 9),\n",
       " ('arts & crafts', 9),\n",
       " ('custom cakes', 9),\n",
       " ('arabian', 9),\n",
       " ('art galleries', 9),\n",
       " ('bistros', 9),\n",
       " ('pool halls', 9),\n",
       " ('brewpubs', 9),\n",
       " ('arcades', 9),\n",
       " ('public markets', 9),\n",
       " ('kebab', 9),\n",
       " ('macarons', 9),\n",
       " ('pharmacy', 8),\n",
       " ('international grocery', 8),\n",
       " ('cheesesteaks', 8),\n",
       " ('books', 8),\n",
       " ('mags', 8),\n",
       " ('music & video', 8),\n",
       " ('coffee & tea supplies', 8),\n",
       " ('cuban', 7),\n",
       " ('jazz & blues', 7),\n",
       " ('moroccan', 7),\n",
       " ('comedy clubs', 7),\n",
       " ('german', 7),\n",
       " ('brazilian', 7),\n",
       " ('argentine', 7),\n",
       " ('donairs', 6),\n",
       " ('herbs & spices', 6),\n",
       " ('irish pub', 6),\n",
       " ('florists', 6),\n",
       " ('social clubs', 6),\n",
       " ('ukrainian', 6),\n",
       " ('festivals', 6),\n",
       " ('belgian', 6),\n",
       " ('education', 6),\n",
       " ('drugstores', 5),\n",
       " ('cooking classes', 5),\n",
       " ('tobacco shops', 5),\n",
       " ('cantonese', 5),\n",
       " ('home services', 5),\n",
       " ('pan asian', 5),\n",
       " ('hungarian', 5),\n",
       " ('performing arts', 5),\n",
       " ('gift shops', 5),\n",
       " ('vitamins & supplements', 5),\n",
       " ('gas stations', 5),\n",
       " ('cosmetics & beauty supply', 4),\n",
       " ('peruvian', 4),\n",
       " ('venezuelan', 4),\n",
       " ('personal chefs', 4),\n",
       " ('department stores', 4),\n",
       " ('russian', 4),\n",
       " ('south african', 4),\n",
       " ('bangladeshi', 4),\n",
       " ('adult entertainment', 4),\n",
       " ('bookstores', 4),\n",
       " ('wineries', 4),\n",
       " ('nutritionists', 4),\n",
       " ('whiskey bars', 4),\n",
       " ('indonesian', 4),\n",
       " (\"women's clothing\", 4),\n",
       " ('specialty schools', 4),\n",
       " ('wigs', 4),\n",
       " ('ethical grocery', 4),\n",
       " ('fitness & instruction', 3),\n",
       " ('ethnic grocery', 3),\n",
       " ('playgrounds', 3),\n",
       " ('hakka', 3),\n",
       " ('dry cleaning & laundry', 3),\n",
       " ('smokehouse', 3),\n",
       " ('dinner theater', 3),\n",
       " ('automotive', 3),\n",
       " ('hobby shops', 3),\n",
       " ('team building activities', 3),\n",
       " ('day spas', 3),\n",
       " ('gelato', 3),\n",
       " ('kosher', 2),\n",
       " ('toy stores', 2),\n",
       " ('skin care', 2),\n",
       " ('home & garden', 2),\n",
       " ('home decor', 2),\n",
       " ('bowling', 2),\n",
       " ('czech', 2),\n",
       " ('plumbing', 2),\n",
       " ('laotian', 2),\n",
       " ('australian', 2),\n",
       " ('distilleries', 2),\n",
       " ('couriers & delivery services', 2),\n",
       " ('cards & stationery', 2),\n",
       " ('professional services', 2),\n",
       " ('internet service providers', 2),\n",
       " ('religious organizations', 2),\n",
       " ('laundry services', 2),\n",
       " ('colombian', 2),\n",
       " ('tours', 2),\n",
       " ('trainers', 2),\n",
       " ('vape shops', 2),\n",
       " ('scandinavian', 2),\n",
       " ('acai bowls', 2),\n",
       " ('herbal shops', 2),\n",
       " ('community service/non-profit', 2),\n",
       " ('cafeteria', 2),\n",
       " ('sporting goods', 2),\n",
       " ('mongolian', 2),\n",
       " ('tabletop games', 2),\n",
       " ('art classes', 2),\n",
       " ('indoor playcentre', 2),\n",
       " ('recreation centers', 2),\n",
       " ('tiki bars', 2),\n",
       " ('vinyl records', 2),\n",
       " ('accessories', 2),\n",
       " (\"men's clothing\", 2),\n",
       " ('cooking schools', 2),\n",
       " ('slovakian', 2),\n",
       " ('lan centers', 2),\n",
       " ('head shops', 2),\n",
       " ('szechuan', 2),\n",
       " ('syrian', 2),\n",
       " ('pop-up restaurants', 2),\n",
       " ('pet stores', 2),\n",
       " ('pets', 2),\n",
       " ('discount store', 2),\n",
       " ('salvadoran', 2),\n",
       " ('cideries', 2),\n",
       " ('party supplies', 1),\n",
       " ('jewelry', 1),\n",
       " ('alternative medicine', 1),\n",
       " ('meditation centers', 1),\n",
       " ('shopping centers', 1),\n",
       " ('antiques', 1),\n",
       " ('barbers', 1),\n",
       " ('udon', 1),\n",
       " ('olive oil', 1),\n",
       " ('cannabis clinics', 1),\n",
       " ('used', 1),\n",
       " ('vintage & consignment', 1),\n",
       " ('dry cleaning', 1),\n",
       " ('travel services', 1),\n",
       " ('shoe stores', 1),\n",
       " ('sewing & alterations', 1),\n",
       " ('shoe repair', 1),\n",
       " ('passport & visa services', 1),\n",
       " ('yoga', 1),\n",
       " ('health retreats', 1),\n",
       " ('singaporean', 1),\n",
       " ('nicaraguan', 1),\n",
       " ('doctors', 1),\n",
       " ('naturopathic/holistic', 1),\n",
       " ('acupuncture', 1),\n",
       " ('parks', 1),\n",
       " ('tattoo', 1),\n",
       " ('egyptian', 1),\n",
       " ('video game stores', 1),\n",
       " ('bikes', 1),\n",
       " ('bike repair/maintenance', 1),\n",
       " ('trinidadian', 1),\n",
       " ('japanese sweets', 1),\n",
       " ('wedding planning', 1),\n",
       " ('swiss food', 1),\n",
       " ('gyms', 1),\n",
       " ('food tours', 1),\n",
       " ('printing services', 1),\n",
       " ('art schools', 1),\n",
       " ('wholesale stores', 1),\n",
       " ('massage', 1),\n",
       " ('beer gardens', 1),\n",
       " ('comic books', 1),\n",
       " ('hainan', 1),\n",
       " ('music & dvds', 1),\n",
       " ('personal shopping', 1),\n",
       " ('food banks', 1),\n",
       " ('wraps', 1),\n",
       " ('tacos', 1),\n",
       " ('themed cafes', 1),\n",
       " ('pet services', 1),\n",
       " ('casinos', 1),\n",
       " ('burmese', 1),\n",
       " ('scottish', 1),\n",
       " ('special education', 1),\n",
       " ('izakaya', 1),\n",
       " ('massage therapy', 1),\n",
       " ('traditional chinese medicine', 1),\n",
       " ('pretzels', 1),\n",
       " ('it services & computer repair', 1),\n",
       " ('mobile phone repair', 1),\n",
       " ('reunion', 1),\n",
       " ('escape games', 1),\n",
       " ('shaved snow', 1),\n",
       " ('cinema', 1),\n",
       " ('tennis', 1),\n",
       " ('skating rinks', 1),\n",
       " ('sports clubs', 1),\n",
       " ('champagne bars', 1),\n",
       " ('supper clubs', 1),\n",
       " ('real estate', 1),\n",
       " ('shared office spaces', 1),\n",
       " ('supernatural readings', 1),\n",
       " ('speakeasies', 1),\n",
       " ('minho', 1),\n",
       " ('cabaret', 1),\n",
       " ('cupcakes', 1),\n",
       " ('churches', 1),\n",
       " ('hong kong style cafe', 1)]"
      ]
     },
     "execution_count": 26,
     "metadata": {},
     "output_type": "execute_result"
    }
   ],
   "source": [
    "sorted(list(all_categories.items()), key=lambda x: x[1], reverse=True)"
   ]
  },
  {
   "cell_type": "markdown",
   "metadata": {},
   "source": [
    "We discard the ones with less than 10 counts and choose the following 91 categories manually:"
   ]
  },
  {
   "cell_type": "code",
   "execution_count": 12,
   "metadata": {},
   "outputs": [],
   "source": [
    "chosen_categories = {'coffee & tea', 'specialty food', 'sandwiches', 'breakfast & brunch', 'chinese', 'cafes',\n",
    "                     'canadian (new)', 'bakeries', 'fast food', 'pizza', 'desserts', 'italian', 'japanese', 'burgers', 'pubs',\n",
    "                     'american (traditional)', 'sushi bars', 'indian', 'juice bars & smoothies', 'asian fusion', 'korean',\n",
    "                     'mexican', 'middle eastern', 'thai', 'mediterranean', 'salad', 'chicken wings',\n",
    "                     'ice cream & frozen yogurt', 'seafood', 'beer', 'wine & spirits', 'vegetarian', 'comfort food', 'vegan',\n",
    "                     'greek', 'barbeque', 'vietnamese', 'diners', 'caribbean', 'french', 'american (new)', 'halal',\n",
    "                     'ethnic food', 'gluten-free', 'delis', 'tea rooms', 'gastropubs', 'tapas/small plates', 'soup',\n",
    "                     'steakhouses', 'bubble tea', 'dim sum', 'noodles', 'donuts', 'chicken shop', 'portuguese',\n",
    "                     'chocolatiers & shops', 'ramen', 'tapas bars', 'latin american', 'bagels', 'pakistani', 'fish & chips',\n",
    "                     'taiwanese', 'modern european', 'tex-mex', 'british', 'creperies', 'southern', 'filipino', 'african',\n",
    "                     'hot dogs', 'irish', 'poke', 'ethiopian', 'afghan', 'turkish', 'falafel', 'hot pot', 'spanish',\n",
    "                     'local flavor', 'himalayan/nepalese', 'hawaiian', 'lebanese', 'persian/iranian', 'polish', 'waffles',\n",
    "                     'soul food', 'malaysian', 'sri lankan', 'live/raw food'}"
   ]
  },
  {
   "cell_type": "code",
   "execution_count": 13,
   "metadata": {},
   "outputs": [
    {
     "data": {
      "text/plain": [
       "91"
      ]
     },
     "execution_count": 13,
     "metadata": {},
     "output_type": "execute_result"
    }
   ],
   "source": [
    "len(chosen_categories)"
   ]
  },
  {
   "cell_type": "markdown",
   "metadata": {},
   "source": [
    "We can now get to creating the classifer."
   ]
  },
  {
   "cell_type": "code",
   "execution_count": 14,
   "metadata": {},
   "outputs": [],
   "source": [
    "from sklearn.naive_bayes import BernoulliNB\n",
    "from types import SimpleNamespace\n",
    "\n",
    "class CheckinPredictorDataBuilder(object):\n",
    "    def __init__(self, restaurants_rdd, chosen_categories):\n",
    "        self.chosen_categories = chosen_categories\n",
    "        self.restaurants = restaurants_rdd.map(lambda r: SimpleNamespace(\n",
    "            neighborhood=r['neighborhood'],\n",
    "            categories=({c.strip().lower() for c in r['categories'].split(',')} & chosen_categories),\n",
    "            checkins=r['checkin'],\n",
    "            business_id=r['business_id']\n",
    "        )).collect()\n",
    "        self.neighborhood_encoding = self._categorical_to_ind({r.neighborhood for r in self.restaurants})\n",
    "        self.categories_encoding = self._categorical_to_ind(chosen_categories)\n",
    "        self.checkin_scale = self._get_checkin_scale([r.checkins for r in self.restaurants])\n",
    "    \n",
    "    def _categorical_to_ind(self, categorical_data_set):\n",
    "        return {data: i for i, data in enumerate(categorical_data_set)}\n",
    "\n",
    "    def _get_checkin_scale(self, checkin_data):\n",
    "        loc, scale = expon.fit(checkin_data)\n",
    "        return scale\n",
    "    \n",
    "    def get_encoded_data(self, num_bins):\n",
    "        feature_vecs_X, feature_vec_Y = [], []\n",
    "        for r in self.restaurants:\n",
    "            n_feature_vec = np.zeros(len(self.neighborhood_encoding))\n",
    "            n_feature_vec[self.neighborhood_encoding[r.neighborhood]] = 1\n",
    "            c_feature_vec = np.zeros(len(self.categories_encoding))\n",
    "            for c in r.categories:\n",
    "                c_feature_vec[self.categories_encoding[c]] = 1\n",
    "            feature_vecs_X.append(np.hstack([n_feature_vec, c_feature_vec]))\n",
    "            feature_vec_Y.append(r.checkins)\n",
    "        checkin_bins = get_checkin_bins(num_bins, self.checkin_scale)\n",
    "        return np.vstack(feature_vecs_X), np.digitize(feature_vec_Y, checkin_bins)\n",
    "    \n",
    "    def fit(self, num_bins):\n",
    "        encoded_X, encoded_Y = self._get_encoded_data(num_bins)\n",
    "        model = BernoulliNB()\n",
    "        return model.fit(encoded_X, encoded_Y)\n",
    "        "
   ]
  },
  {
   "cell_type": "code",
   "execution_count": 15,
   "metadata": {},
   "outputs": [],
   "source": [
    "data_builder = CheckinPredictorDataBuilder(toronto, chosen_categories)"
   ]
  },
  {
   "cell_type": "code",
   "execution_count": 16,
   "metadata": {},
   "outputs": [],
   "source": [
    "X, Y = data_builder.get_encoded_data(5)"
   ]
  },
  {
   "cell_type": "code",
   "execution_count": 17,
   "metadata": {},
   "outputs": [],
   "source": [
    "model = BernoulliNB().fit(X, Y)"
   ]
  },
  {
   "cell_type": "code",
   "execution_count": 18,
   "metadata": {},
   "outputs": [],
   "source": [
    "predictions = model.predict(X)"
   ]
  },
  {
   "cell_type": "code",
   "execution_count": 19,
   "metadata": {},
   "outputs": [],
   "source": [
    "from sklearn.metrics import accuracy_score, precision_score, f1_score, recall_score, confusion_matrix"
   ]
  },
  {
   "cell_type": "code",
   "execution_count": 20,
   "metadata": {},
   "outputs": [
    {
     "data": {
      "text/plain": [
       "0.43239308462238396"
      ]
     },
     "execution_count": 20,
     "metadata": {},
     "output_type": "execute_result"
    }
   ],
   "source": [
    "accuracy_score(Y, predictions)"
   ]
  },
  {
   "cell_type": "code",
   "execution_count": 21,
   "metadata": {},
   "outputs": [
    {
     "data": {
      "text/plain": [
       "array([0.46687341, 0.34541578, 0.30645161, 0.31818182, 0.38831886])"
      ]
     },
     "execution_count": 21,
     "metadata": {},
     "output_type": "execute_result"
    }
   ],
   "source": [
    "precision_score(Y, predictions, average=None)"
   ]
  },
  {
   "cell_type": "code",
   "execution_count": 22,
   "metadata": {},
   "outputs": [
    {
     "data": {
      "text/plain": [
       "array([0.59058488, 0.20742638, 0.08597285, 0.08284024, 0.43539823])"
      ]
     },
     "execution_count": 22,
     "metadata": {},
     "output_type": "execute_result"
    }
   ],
   "source": [
    "f1_score(Y, predictions, average=None)"
   ]
  },
  {
   "cell_type": "code",
   "execution_count": 23,
   "metadata": {},
   "outputs": [
    {
     "data": {
      "text/plain": [
       "array([0.80349345, 0.14821592, 0.05      , 0.04761905, 0.49546828])"
      ]
     },
     "execution_count": 23,
     "metadata": {},
     "output_type": "execute_result"
    }
   ],
   "source": [
    "recall_score(Y, predictions, average=None)"
   ]
  },
  {
   "cell_type": "code",
   "execution_count": 24,
   "metadata": {},
   "outputs": [
    {
     "data": {
      "text/plain": [
       "array([[0.46687341, 0.2750533 , 0.24193548, 0.17045455, 0.18232044],\n",
       "       [0.2015788 , 0.34541578, 0.16935484, 0.17045455, 0.14206788],\n",
       "       [0.1291232 , 0.15565032, 0.30645161, 0.14772727, 0.14048934],\n",
       "       [0.08655202, 0.10021322, 0.16129032, 0.31818182, 0.14680347],\n",
       "       [0.11587257, 0.12366738, 0.12096774, 0.19318182, 0.38831886]])"
      ]
     },
     "execution_count": 24,
     "metadata": {},
     "output_type": "execute_result"
    }
   ],
   "source": [
    "cp = confusion_matrix(Y, predictions)\n",
    "cp / np.sum(cp, axis=0)"
   ]
  },
  {
   "cell_type": "code",
   "execution_count": 295,
   "metadata": {},
   "outputs": [
    {
     "data": {
      "text/plain": [
       "array([[0.35831093, 0.26143056, 0.08067146, 0.091132  , 0.20845505],\n",
       "       [0.60153897, 0.23412888, 0.07231885, 0.026607  , 0.0654063 ],\n",
       "       [0.5771909 , 0.16185134, 0.1030889 , 0.05901862, 0.09885024],\n",
       "       ...,\n",
       "       [0.00305663, 0.01076454, 0.06568855, 0.02513615, 0.89535413],\n",
       "       [0.41092481, 0.34411737, 0.07664654, 0.11907185, 0.04923944],\n",
       "       [0.38480009, 0.32466655, 0.11005265, 0.06110602, 0.11937469]])"
      ]
     },
     "execution_count": 295,
     "metadata": {},
     "output_type": "execute_result"
    }
   ],
   "source": [
    "model.predict_proba(X)"
   ]
  },
  {
   "cell_type": "code",
   "execution_count": 263,
   "metadata": {},
   "outputs": [
    {
     "data": {
      "text/plain": [
       "(5495, 163)"
      ]
     },
     "execution_count": 263,
     "metadata": {},
     "output_type": "execute_result"
    }
   ],
   "source": [
    "X.shape"
   ]
  },
  {
   "cell_type": "code",
   "execution_count": 239,
   "metadata": {},
   "outputs": [],
   "source": [
    "phoenix = restaurants.filter(lambda r: r['city'] == 'Phoenix')"
   ]
  },
  {
   "cell_type": "code",
   "execution_count": null,
   "metadata": {},
   "outputs": [],
   "source": []
  }
 ],
 "metadata": {
  "kernelspec": {
   "display_name": "Python 3",
   "language": "python",
   "name": "python3"
  },
  "language_info": {
   "codemirror_mode": {
    "name": "ipython",
    "version": 3
   },
   "file_extension": ".py",
   "mimetype": "text/x-python",
   "name": "python",
   "nbconvert_exporter": "python",
   "pygments_lexer": "ipython3",
   "version": "3.6.5"
  }
 },
 "nbformat": 4,
 "nbformat_minor": 2
}
