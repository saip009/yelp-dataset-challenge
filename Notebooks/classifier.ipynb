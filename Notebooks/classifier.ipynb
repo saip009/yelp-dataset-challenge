{
 "cells": [
  {
   "cell_type": "code",
   "execution_count": 1,
   "metadata": {},
   "outputs": [],
   "source": [
    "import numpy as np\n",
    "import pandas as pd\n",
    "import matplotlib.pyplot as plt\n",
    "import seaborn as sns\n",
    "import json\n",
    "%matplotlib inline\n",
    "sns.set()"
   ]
  },
  {
   "cell_type": "code",
   "execution_count": 3,
   "metadata": {},
   "outputs": [],
   "source": [
    "# checkin\n",
    "data = []\n",
    "for line in open('../data/raw/yelp_academic_dataset_checkin.json', 'r'):\n",
    "    data.append(json.loads(line))\n",
    "checkin_df = pd.DataFrame(data)"
   ]
  },
  {
   "cell_type": "code",
   "execution_count": 5,
   "metadata": {},
   "outputs": [],
   "source": [
    "# business\n",
    "data = []\n",
    "for line in open('../data/raw/yelp_academic_dataset_business.json', 'r'):\n",
    "    data.append(json.loads(line))\n",
    "business_df = pd.DataFrame(data)"
   ]
  },
  {
   "cell_type": "code",
   "execution_count": 4,
   "metadata": {},
   "outputs": [],
   "source": [
    "# # review\n",
    "# data = []\n",
    "# for line in open('../data/raw/yelp_dataset/yelp_academic_dataset_review.json', 'r'):\n",
    "#     data.append(json.loads(line))\n",
    "# review_df = pd.DataFrame(data)"
   ]
  },
  {
   "cell_type": "code",
   "execution_count": 5,
   "metadata": {},
   "outputs": [],
   "source": [
    "# # tip\n",
    "# data = []\n",
    "# for line in open('../data/raw/yelp_dataset/yelp_academic_dataset_tip.json', 'r'):\n",
    "#     data.append(json.loads(line))\n",
    "# tip_df = pd.DataFrame(data)"
   ]
  },
  {
   "cell_type": "code",
   "execution_count": 6,
   "metadata": {},
   "outputs": [],
   "source": [
    "# # user\n",
    "# data = []\n",
    "# for line in open('../data/raw/yelp_dataset/yelp_academic_dataset_user.json', 'r'):\n",
    "#     data.append(json.loads(line))\n",
    "# user_df = pd.DataFrame(data)"
   ]
  },
  {
   "cell_type": "code",
   "execution_count": 6,
   "metadata": {},
   "outputs": [
    {
     "data": {
      "text/plain": [
       "array(['address', 'attributes', 'business_id', 'categories', 'city',\n",
       "       'hours', 'is_open', 'latitude', 'longitude', 'name',\n",
       "       'neighborhood', 'postal_code', 'review_count', 'stars', 'state'],\n",
       "      dtype=object)"
      ]
     },
     "execution_count": 6,
     "metadata": {},
     "output_type": "execute_result"
    }
   ],
   "source": [
    "business_df.columns.values"
   ]
  },
  {
   "cell_type": "code",
   "execution_count": 7,
   "metadata": {},
   "outputs": [
    {
     "data": {
      "text/plain": [
       "(77627, 15)"
      ]
     },
     "execution_count": 7,
     "metadata": {},
     "output_type": "execute_result"
    }
   ],
   "source": [
    "searchfor = ['Restaurant', 'Bar', 'Food']\n",
    "restaurant_df = business_df[business_df.categories.str.contains(\"|\".join(searchfor), na = False)]\n",
    "restaurant_df.shape"
   ]
  },
  {
   "cell_type": "code",
   "execution_count": 9,
   "metadata": {},
   "outputs": [
    {
     "data": {
      "text/plain": [
       "0.5775954242724826"
      ]
     },
     "execution_count": 9,
     "metadata": {},
     "output_type": "execute_result"
    }
   ],
   "source": [
    "list(restaurant_df[\"neighborhood\"]).count('')/len(list(restaurant_df[\"neighborhood\"]))"
   ]
  },
  {
   "cell_type": "code",
   "execution_count": 10,
   "metadata": {},
   "outputs": [
    {
     "data": {
      "text/plain": [
       "3.8646347276076625e-05"
      ]
     },
     "execution_count": 10,
     "metadata": {},
     "output_type": "execute_result"
    }
   ],
   "source": [
    "list(restaurant_df[\"city\"]).count('')/len(list(restaurant_df[\"city\"]))"
   ]
  },
  {
   "cell_type": "code",
   "execution_count": 11,
   "metadata": {},
   "outputs": [
    {
     "data": {
      "text/plain": [
       "0.0"
      ]
     },
     "execution_count": 11,
     "metadata": {},
     "output_type": "execute_result"
    }
   ],
   "source": [
    "list(restaurant_df[\"state\"]).count('')/len(list(restaurant_df[\"state\"]))"
   ]
  },
  {
   "cell_type": "code",
   "execution_count": 12,
   "metadata": {},
   "outputs": [
    {
     "data": {
      "text/plain": [
       "0.0029113581614644388"
      ]
     },
     "execution_count": 12,
     "metadata": {},
     "output_type": "execute_result"
    }
   ],
   "source": [
    "list(restaurant_df[\"postal_code\"]).count('')/len(list(restaurant_df[\"postal_code\"]))"
   ]
  },
  {
   "cell_type": "code",
   "execution_count": 13,
   "metadata": {},
   "outputs": [
    {
     "data": {
      "text/plain": [
       "0.0"
      ]
     },
     "execution_count": 13,
     "metadata": {},
     "output_type": "execute_result"
    }
   ],
   "source": [
    "list(restaurant_df[\"review_count\"]).count(0)/len(list(restaurant_df[\"review_count\"]))"
   ]
  },
  {
   "cell_type": "code",
   "execution_count": 14,
   "metadata": {},
   "outputs": [
    {
     "name": "stdout",
     "output_type": "stream",
     "text": [
      "Restaurant - mean: 53.53625671480284\n",
      "Restaurant - std: 143.51976312418665\n",
      "Restaurant - median: 16.0\n",
      "Restaurant - min-max: 3 7968\n"
     ]
    }
   ],
   "source": [
    "print(\"Restaurant - mean:\", np.mean(restaurant_df[\"review_count\"]))\n",
    "print(\"Restaurant - std:\", np.std(restaurant_df[\"review_count\"]))\n",
    "print(\"Restaurant - median:\", np.median(restaurant_df[\"review_count\"]))\n",
    "print(\"Restaurant - min-max:\", np.min(restaurant_df[\"review_count\"]), np.max(restaurant_df[\"review_count\"]))"
   ]
  },
  {
   "cell_type": "code",
   "execution_count": 15,
   "metadata": {},
   "outputs": [
    {
     "data": {
      "text/plain": [
       "(3236, 15)"
      ]
     },
     "execution_count": 15,
     "metadata": {},
     "output_type": "execute_result"
    }
   ],
   "source": [
    "restaurant_df[~restaurant_df[\"business_id\"].isin(checkin_df[\"business_id\"].values)].shape"
   ]
  },
  {
   "cell_type": "code",
   "execution_count": 16,
   "metadata": {},
   "outputs": [
    {
     "data": {
      "text/plain": [
       "Toronto        10284\n",
       "Las Vegas       8855\n",
       "Phoenix         5472\n",
       "Montréal        4492\n",
       "Calgary         3767\n",
       "Charlotte       3623\n",
       "Pittsburgh      3241\n",
       "Scottsdale      2179\n",
       "Cleveland       1912\n",
       "Mississauga     1723\n",
       "Name: city, dtype: int64"
      ]
     },
     "execution_count": 16,
     "metadata": {},
     "output_type": "execute_result"
    }
   ],
   "source": [
    "restaurant_df.city.value_counts().head(10)"
   ]
  },
  {
   "cell_type": "code",
   "execution_count": 17,
   "metadata": {},
   "outputs": [],
   "source": [
    "phoenix_df = restaurant_df[restaurant_df[\"city\"] == \"Phoenix\"]"
   ]
  },
  {
   "cell_type": "code",
   "execution_count": 18,
   "metadata": {},
   "outputs": [],
   "source": [
    "# phoenix_df = phoenix_df.drop(['address', 'is_open', 'latitude', 'longitude', 'state', 'hours', 'city', 'neighborhood', 'categories'], axis=1)\n",
    "# phoenix_df.shape # (18633, 15)"
   ]
  },
  {
   "cell_type": "code",
   "execution_count": 19,
   "metadata": {},
   "outputs": [
    {
     "data": {
      "text/html": [
       "<div>\n",
       "<style scoped>\n",
       "    .dataframe tbody tr th:only-of-type {\n",
       "        vertical-align: middle;\n",
       "    }\n",
       "\n",
       "    .dataframe tbody tr th {\n",
       "        vertical-align: top;\n",
       "    }\n",
       "\n",
       "    .dataframe thead th {\n",
       "        text-align: right;\n",
       "    }\n",
       "</style>\n",
       "<table border=\"1\" class=\"dataframe\">\n",
       "  <thead>\n",
       "    <tr style=\"text-align: right;\">\n",
       "      <th></th>\n",
       "      <th>address</th>\n",
       "      <th>attributes</th>\n",
       "      <th>business_id</th>\n",
       "      <th>categories</th>\n",
       "      <th>city</th>\n",
       "      <th>hours</th>\n",
       "      <th>is_open</th>\n",
       "      <th>latitude</th>\n",
       "      <th>longitude</th>\n",
       "      <th>name</th>\n",
       "      <th>neighborhood</th>\n",
       "      <th>postal_code</th>\n",
       "      <th>review_count</th>\n",
       "      <th>stars</th>\n",
       "      <th>state</th>\n",
       "    </tr>\n",
       "  </thead>\n",
       "  <tbody>\n",
       "    <tr>\n",
       "      <th>5</th>\n",
       "      <td>20235 N Cave Creek Rd, Ste 1115</td>\n",
       "      <td>{'BikeParking': 'True', 'BusinessAcceptsCredit...</td>\n",
       "      <td>45bWSZtniwPRiqlivpS8Og</td>\n",
       "      <td>Coffee &amp; Tea, Food</td>\n",
       "      <td>Phoenix</td>\n",
       "      <td>{'Monday': '5:30-20:0', 'Tuesday': '5:30-20:0'...</td>\n",
       "      <td>1</td>\n",
       "      <td>33.671375</td>\n",
       "      <td>-112.030017</td>\n",
       "      <td>The Coffee Bean &amp; Tea Leaf</td>\n",
       "      <td></td>\n",
       "      <td>85024</td>\n",
       "      <td>63</td>\n",
       "      <td>4.0</td>\n",
       "      <td>AZ</td>\n",
       "    </tr>\n",
       "  </tbody>\n",
       "</table>\n",
       "</div>"
      ],
      "text/plain": [
       "                           address  \\\n",
       "5  20235 N Cave Creek Rd, Ste 1115   \n",
       "\n",
       "                                          attributes             business_id  \\\n",
       "5  {'BikeParking': 'True', 'BusinessAcceptsCredit...  45bWSZtniwPRiqlivpS8Og   \n",
       "\n",
       "           categories     city  \\\n",
       "5  Coffee & Tea, Food  Phoenix   \n",
       "\n",
       "                                               hours  is_open   latitude  \\\n",
       "5  {'Monday': '5:30-20:0', 'Tuesday': '5:30-20:0'...        1  33.671375   \n",
       "\n",
       "    longitude                        name neighborhood postal_code  \\\n",
       "5 -112.030017  The Coffee Bean & Tea Leaf                    85024   \n",
       "\n",
       "   review_count  stars state  \n",
       "5            63    4.0    AZ  "
      ]
     },
     "execution_count": 19,
     "metadata": {},
     "output_type": "execute_result"
    }
   ],
   "source": [
    "phoenix_df.head(1)\n",
    "# phoenix_df[set(phoenix_df.categories) & set([\"Food\", \"Bar\", \"Restaurant\"])]\n",
    "# phoenix_df.shape\n",
    "# phoenix_df.categories"
   ]
  },
  {
   "cell_type": "code",
   "execution_count": 20,
   "metadata": {},
   "outputs": [],
   "source": [
    "phoenix_df = phoenix_df.merge(checkin_df, on='business_id', how='left')\n",
    "# phoenix_df['checkins'] = sum(phoenix_df['time'].values())"
   ]
  },
  {
   "cell_type": "code",
   "execution_count": 21,
   "metadata": {},
   "outputs": [
    {
     "data": {
      "text/plain": [
       "(263.2143640350877, 606.9478192185874, 60.0)"
      ]
     },
     "execution_count": 21,
     "metadata": {},
     "output_type": "execute_result"
    }
   ],
   "source": [
    "# phoenix_df = phoenix_df.drop([\"time_x\", \"time_y\"], axis=1)   # ran merge multiple times\n",
    "\n",
    "temp_df = phoenix_df\n",
    "# temp_df['counts'] = sum(phoenix_df['time'].values.pop().values())\n",
    "temp_df.shape\n",
    "temp_df.head(5)\n",
    "# phoenix_df['checkins'] = np.sum(phoenix_df['time'].values())\n",
    "# temp_df['checkins']\n",
    "\n",
    "def sumofdict(x):\n",
    "#     x = json.loads(x)\n",
    "#     print(list(x.values())\n",
    "    if type(x) == type({}): return sum(list(x.values()))\n",
    "    else: return 0\n",
    "    \n",
    "temp_df['checkins'] = temp_df['time'].apply(sumofdict)\n",
    "(np.mean(temp_df['checkins']), np.std(temp_df['checkins']), np.median(temp_df['checkins']))\n",
    "phoenix_df = temp_df\n",
    "mean, std, median = (np.mean(phoenix_df['checkins']), np.std(phoenix_df['checkins']), np.median(phoenix_df['checkins']))\n",
    "(mean, std, median)"
   ]
  },
  {
   "cell_type": "code",
   "execution_count": 22,
   "metadata": {},
   "outputs": [
    {
     "data": {
      "text/plain": [
       "[<matplotlib.lines.Line2D at 0x7f500f7ea5f8>]"
      ]
     },
     "execution_count": 22,
     "metadata": {},
     "output_type": "execute_result"
    },
    {
     "data": {
      "image/png": "[encoded data removed]",
      "text/plain": [
       "<Figure size 432x288 with 1 Axes>"
      ]
     },
     "metadata": {},
     "output_type": "display_data"
    }
   ],
   "source": [
    "import scipy.stats as stats\n",
    "import pylab as pl\n",
    "\n",
    "h = list(temp_df['checkins'])\n",
    "h.sort()\n",
    "h = h[:-3000]\n",
    "hmean = np.mean(h)\n",
    "hstd = np.std(h)\n",
    "pdf = stats.norm.pdf(h, hmean, hstd)\n",
    "plt.plot(h, pdf) # including h here is crucial"
   ]
  },
  {
   "cell_type": "code",
   "execution_count": 23,
   "metadata": {},
   "outputs": [
    {
     "name": "stdout",
     "output_type": "stream",
     "text": [
      "(5472, 18)\n"
     ]
    },
    {
     "data": {
      "text/plain": [
       "Index(['address', 'attributes', 'business_id', 'categories', 'city', 'hours',\n",
       "       'is_open', 'latitude', 'longitude', 'name', 'neighborhood',\n",
       "       'postal_code', 'review_count', 'stars', 'state', 'time', 'checkins',\n",
       "       'label'],\n",
       "      dtype='object')"
      ]
     },
     "execution_count": 23,
     "metadata": {},
     "output_type": "execute_result"
    }
   ],
   "source": [
    "def categorize(x):\n",
    "    mean = 263.2143640350877\n",
    "    std = 606.9478192185874\n",
    "    if x <= mean - 2*std: return 1\n",
    "    if x <= mean - std and x >= mean - 2*std: return 2\n",
    "    if x >= mean - std and x <= mean + std: return 3\n",
    "    if x >= mean + std and x <= mean + 2*std: return 4\n",
    "    if x >= mean + 2*std: return 5\n",
    "\n",
    "temp_df['label'] = temp_df['checkins'].apply(categorize)\n",
    "print(temp_df.shape)\n",
    "\n",
    "[len(temp_df[(temp_df['label'] == 1)]), len(temp_df[(temp_df['label'] == 2)]), len(temp_df[(temp_df['label'] == 3)]), len(temp_df[(temp_df['label'] == 4)]), len(temp_df[(temp_df['label'] == 5)])]\n",
    "\n",
    "temp_df.columns"
   ]
  },
  {
   "cell_type": "code",
   "execution_count": 24,
   "metadata": {},
   "outputs": [],
   "source": [
    "temp_df.categories = temp_df.categories.str.lower().str.split(',')"
   ]
  },
  {
   "cell_type": "code",
   "execution_count": 81,
   "metadata": {},
   "outputs": [
    {
     "data": {
      "text/plain": [
       "(5472, 1967)"
      ]
     },
     "execution_count": 81,
     "metadata": {},
     "output_type": "execute_result"
    }
   ],
   "source": [
    "temp_df2 = temp_df.filter(['categories','neighborhood','label'], axis=1)\n",
    "\n",
    "# Get one hot encoding of columns B\n",
    "one_hot = pd.get_dummies(temp_df2.categories.apply(pd.Series), prefix=\"categories\", prefix_sep=\"_\")\n",
    "one_hot2 = pd.get_dummies(temp_df2.neighborhood.apply(pd.Series), prefix=\"neighborhood\", prefix_sep=\"_\")\n",
    "# Drop column B as it is now encoded\n",
    "temp_df2 = temp_df2.drop(['categories', 'neighborhood'],axis = 1)\n",
    "# Join the encoded df\n",
    "temp_df2 = temp_df2.join(one_hot)\n",
    "temp_df2 = temp_df2.join(one_hot2)\n",
    "temp_df2.shape"
   ]
  },
  {
   "cell_type": "code",
   "execution_count": 82,
   "metadata": {},
   "outputs": [
    {
     "data": {
      "text/plain": [
       "((5472, 1966), (5472,))"
      ]
     },
     "execution_count": 82,
     "metadata": {},
     "output_type": "execute_result"
    }
   ],
   "source": [
    "len(temp_df2.columns)\n",
    "\n",
    "y = np.ravel(pd.DataFrame(temp_df2[\"label\"]))\n",
    "X = temp_df2.drop('label', axis=1)\n",
    "X.shape, y.shape"
   ]
  },
  {
   "cell_type": "code",
   "execution_count": 83,
   "metadata": {},
   "outputs": [],
   "source": [
    "from sklearn.model_selection import train_test_split\n",
    "\n",
    "X_train, X_test, y_train, y_test = train_test_split(X, y, test_size=0.2, random_state=1)\n",
    "\n",
    "X_train, X_val, y_train, y_val = train_test_split(X_train, y_train, test_size=0.2, random_state=1)"
   ]
  },
  {
   "cell_type": "code",
   "execution_count": 84,
   "metadata": {},
   "outputs": [
    {
     "name": "stdout",
     "output_type": "stream",
     "text": [
      "0.9098173515981736\n",
      "0.9232876712328767\n"
     ]
    }
   ],
   "source": [
    "from sklearn.naive_bayes import BernoulliNB\n",
    "clf = BernoulliNB()\n",
    "clf.fit(X_train, y_train)\n",
    "y_pred = clf.predict(X_val)\n",
    "from sklearn.metrics import accuracy_score\n",
    "accuracy = accuracy_score(y_val, y_pred)\n",
    "print(accuracy)\n",
    "\n",
    "y_pred = clf.predict(X_test)\n",
    "accuracy = accuracy_score(y_test, y_pred)\n",
    "print(accuracy)"
   ]
  }
 ],
 "metadata": {
  "kernelspec": {
   "display_name": "Python 3",
   "language": "python",
   "name": "python3"
  },
  "language_info": {
   "codemirror_mode": {
    "name": "ipython",
    "version": 3
   },
   "file_extension": ".py",
   "mimetype": "text/x-python",
   "name": "python",
   "nbconvert_exporter": "python",
   "pygments_lexer": "ipython3",
   "version": "3.6.5"
  }
 },
 "nbformat": 4,
 "nbformat_minor": 2
}
