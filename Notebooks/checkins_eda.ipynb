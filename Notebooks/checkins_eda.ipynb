{
 "cells": [
  {
   "cell_type": "code",
   "execution_count": 82,
   "metadata": {},
   "outputs": [],
   "source": [
    "import numpy as np\n",
    "import pandas as pd\n",
    "import matplotlib.pyplot as plt\n",
    "import seaborn as sns\n",
    "import json\n",
    "%matplotlib inline\n",
    "sns.set()"
   ]
  },
  {
   "cell_type": "code",
   "execution_count": 83,
   "metadata": {},
   "outputs": [],
   "source": [
    "# checkin\n",
    "data = []\n",
    "for line in open('../data/raw/yelp_dataset/yelp_academic_dataset_checkin.json', 'r'):\n",
    "    data.append(json.loads(line))\n",
    "checkin_df = pd.DataFrame(data)"
   ]
  },
  {
   "cell_type": "code",
   "execution_count": 84,
   "metadata": {},
   "outputs": [],
   "source": [
    "# business\n",
    "data = []\n",
    "for line in open('../data/raw/yelp_dataset/yelp_academic_dataset_business.json', 'r'):\n",
    "    data.append(json.loads(line))\n",
    "business_df = pd.DataFrame(data)"
   ]
  },
  {
   "cell_type": "code",
   "execution_count": null,
   "metadata": {},
   "outputs": [],
   "source": [
    "# # review\n",
    "# data = []\n",
    "# for line in open('../data/raw/yelp_dataset/yelp_academic_dataset_review.json', 'r'):\n",
    "#     data.append(json.loads(line))\n",
    "# review_df = pd.DataFrame(data)"
   ]
  },
  {
   "cell_type": "code",
   "execution_count": null,
   "metadata": {},
   "outputs": [],
   "source": [
    "# # tip\n",
    "# data = []\n",
    "# for line in open('../data/raw/yelp_dataset/yelp_academic_dataset_tip.json', 'r'):\n",
    "#     data.append(json.loads(line))\n",
    "# tip_df = pd.DataFrame(data)"
   ]
  },
  {
   "cell_type": "code",
   "execution_count": null,
   "metadata": {},
   "outputs": [],
   "source": [
    "# # user\n",
    "# data = []\n",
    "# for line in open('../data/raw/yelp_dataset/yelp_academic_dataset_user.json', 'r'):\n",
    "#     data.append(json.loads(line))\n",
    "# user_df = pd.DataFrame(data)"
   ]
  },
  {
   "cell_type": "code",
   "execution_count": 85,
   "metadata": {},
   "outputs": [
    {
     "data": {
      "text/plain": [
       "(157075, 2)"
      ]
     },
     "execution_count": 85,
     "metadata": {},
     "output_type": "execute_result"
    }
   ],
   "source": [
    "checkin_df.shape"
   ]
  },
  {
   "cell_type": "code",
   "execution_count": 86,
   "metadata": {},
   "outputs": [
    {
     "data": {
      "text/plain": [
       "{'business_id', 'time'}"
      ]
     },
     "execution_count": 86,
     "metadata": {},
     "output_type": "execute_result"
    }
   ],
   "source": [
    "set(checkin_df)"
   ]
  },
  {
   "cell_type": "code",
   "execution_count": 1,
   "metadata": {},
   "outputs": [],
   "source": [
    "# df.iloc[0]['time']"
   ]
  },
  {
   "cell_type": "code",
   "execution_count": 87,
   "metadata": {},
   "outputs": [
    {
     "data": {
      "text/plain": [
       "151"
      ]
     },
     "execution_count": 87,
     "metadata": {},
     "output_type": "execute_result"
    }
   ],
   "source": [
    "sum(checkin_df.iloc[0]['time'].values())"
   ]
  },
  {
   "cell_type": "code",
   "execution_count": 88,
   "metadata": {},
   "outputs": [],
   "source": [
    "i = 0\n",
    "zeros = nonzeros = 0\n",
    "checkins = []\n",
    "\n",
    "for index, row in checkin_df.iterrows():\n",
    "    i += 1\n",
    "#     if i==4: break\n",
    "    total_checkins_per_week = sum(row['time'].values())\n",
    "    checkins.append(total_checkins_per_week)\n"
   ]
  },
  {
   "cell_type": "code",
   "execution_count": 28,
   "metadata": {},
   "outputs": [
    {
     "name": "stdout",
     "output_type": "stream",
     "text": [
      "Length of checkins: 157075\n",
      "Number of businesses (with checkins): 157075\n",
      "Range: 1 - 138477\n",
      "Businesses with 0 checkins: 0 0.0\n",
      "Businesses with 1 checkin: 14513 (0.092%)\n",
      "Businesses with 2 checkins: 10401\n",
      "Total number of checkins: 17915884\n",
      "Number of unique checkin sums: 2759\n"
     ]
    }
   ],
   "source": [
    "tot = len(checkins)\n",
    "print(\"Length of checkins:\", tot)\n",
    "print(\"Number of businesses (with checkins):\", len(checkin_df))\n",
    "print(\"Range:\", min(checkins), \"-\", max(checkins))\n",
    "zeros = checkins.count(0)\n",
    "print(\"Businesses with 0 checkins:\", zeros, zeros/tot)\n",
    "ones = checkins.count(1)\n",
    "print(\"Businesses with 1 checkin: {} ({:.3f}%)\".format(ones, ones/tot))\n",
    "print(\"Businesses with 2 checkins:\", checkins.count(2))\n",
    "print(\"Total number of checkins:\", sum(checkins))\n",
    "print(\"Number of unique checkin sums:\", len(set(checkins)))\n"
   ]
  },
  {
   "cell_type": "code",
   "execution_count": 89,
   "metadata": {},
   "outputs": [
    {
     "data": {
      "text/plain": [
       "[<matplotlib.lines.Line2D at 0x7f3cde93c588>]"
      ]
     },
     "execution_count": 89,
     "metadata": {},
     "output_type": "execute_result"
    },
    {
     "data": {
      "image/png": "[encoded data removed]",
      "text/plain": [
       "<Figure size 432x288 with 1 Axes>"
      ]
     },
     "metadata": {},
     "output_type": "display_data"
    }
   ],
   "source": [
    "# checkins.sort()\n",
    "checkins.extend([0]*(business_df.shape[0] - tot))\n",
    "plt.plot(checkins)\n"
   ]
  },
  {
   "cell_type": "code",
   "execution_count": 90,
   "metadata": {},
   "outputs": [
    {
     "name": "stdout",
     "output_type": "stream",
     "text": [
      "14299\n",
      "business_id                               FaHADZARwnY4yvlvpnsfGA\n",
      "time           {'Fri-0': 1121, 'Mon-0': 1421, 'Sat-0': 1471, ...\n",
      "Name: 14299, dtype: object\n"
     ]
    }
   ],
   "source": [
    "print(checkins.index(max(checkins)))\n",
    "print(checkin_df.iloc[14299])"
   ]
  },
  {
   "cell_type": "code",
   "execution_count": 27,
   "metadata": {},
   "outputs": [
    {
     "data": {
      "text/html": [
       "<div>\n",
       "<style scoped>\n",
       "    .dataframe tbody tr th:only-of-type {\n",
       "        vertical-align: middle;\n",
       "    }\n",
       "\n",
       "    .dataframe tbody tr th {\n",
       "        vertical-align: top;\n",
       "    }\n",
       "\n",
       "    .dataframe thead th {\n",
       "        text-align: right;\n",
       "    }\n",
       "</style>\n",
       "<table border=\"1\" class=\"dataframe\">\n",
       "  <thead>\n",
       "    <tr style=\"text-align: right;\">\n",
       "      <th></th>\n",
       "      <th>address</th>\n",
       "      <th>attributes</th>\n",
       "      <th>business_id</th>\n",
       "      <th>categories</th>\n",
       "      <th>city</th>\n",
       "      <th>hours</th>\n",
       "      <th>is_open</th>\n",
       "      <th>latitude</th>\n",
       "      <th>longitude</th>\n",
       "      <th>name</th>\n",
       "      <th>neighborhood</th>\n",
       "      <th>postal_code</th>\n",
       "      <th>review_count</th>\n",
       "      <th>stars</th>\n",
       "      <th>state</th>\n",
       "    </tr>\n",
       "  </thead>\n",
       "  <tbody>\n",
       "    <tr>\n",
       "      <th>0</th>\n",
       "      <td>1314 44 Avenue NE</td>\n",
       "      <td>{'BikeParking': 'False', 'BusinessAcceptsCredi...</td>\n",
       "      <td>Apn5Q_b6Nz61Tq4XzPdf9A</td>\n",
       "      <td>Tours, Breweries, Pizza, Restaurants, Food, Ho...</td>\n",
       "      <td>Calgary</td>\n",
       "      <td>{'Monday': '8:30-17:0', 'Tuesday': '11:0-21:0'...</td>\n",
       "      <td>1</td>\n",
       "      <td>51.091813</td>\n",
       "      <td>-114.031675</td>\n",
       "      <td>Minhas Micro Brewery</td>\n",
       "      <td></td>\n",
       "      <td>T2E 6L6</td>\n",
       "      <td>24</td>\n",
       "      <td>4.0</td>\n",
       "      <td>AB</td>\n",
       "    </tr>\n",
       "  </tbody>\n",
       "</table>\n",
       "</div>"
      ],
      "text/plain": [
       "             address                                         attributes  \\\n",
       "0  1314 44 Avenue NE  {'BikeParking': 'False', 'BusinessAcceptsCredi...   \n",
       "\n",
       "              business_id                                         categories  \\\n",
       "0  Apn5Q_b6Nz61Tq4XzPdf9A  Tours, Breweries, Pizza, Restaurants, Food, Ho...   \n",
       "\n",
       "      city                                              hours  is_open  \\\n",
       "0  Calgary  {'Monday': '8:30-17:0', 'Tuesday': '11:0-21:0'...        1   \n",
       "\n",
       "    latitude   longitude                  name neighborhood postal_code  \\\n",
       "0  51.091813 -114.031675  Minhas Micro Brewery                  T2E 6L6   \n",
       "\n",
       "   review_count  stars state  \n",
       "0            24    4.0    AB  "
      ]
     },
     "execution_count": 27,
     "metadata": {},
     "output_type": "execute_result"
    }
   ],
   "source": [
    "business_df.head(1)"
   ]
  },
  {
   "cell_type": "code",
   "execution_count": 30,
   "metadata": {},
   "outputs": [
    {
     "data": {
      "text/html": [
       "<div>\n",
       "<style scoped>\n",
       "    .dataframe tbody tr th:only-of-type {\n",
       "        vertical-align: middle;\n",
       "    }\n",
       "\n",
       "    .dataframe tbody tr th {\n",
       "        vertical-align: top;\n",
       "    }\n",
       "\n",
       "    .dataframe thead th {\n",
       "        text-align: right;\n",
       "    }\n",
       "</style>\n",
       "<table border=\"1\" class=\"dataframe\">\n",
       "  <thead>\n",
       "    <tr style=\"text-align: right;\">\n",
       "      <th></th>\n",
       "      <th>address</th>\n",
       "      <th>attributes</th>\n",
       "      <th>business_id</th>\n",
       "      <th>categories</th>\n",
       "      <th>city</th>\n",
       "      <th>hours</th>\n",
       "      <th>is_open</th>\n",
       "      <th>latitude</th>\n",
       "      <th>longitude</th>\n",
       "      <th>name</th>\n",
       "      <th>neighborhood</th>\n",
       "      <th>postal_code</th>\n",
       "      <th>review_count</th>\n",
       "      <th>stars</th>\n",
       "      <th>state</th>\n",
       "    </tr>\n",
       "  </thead>\n",
       "  <tbody>\n",
       "    <tr>\n",
       "      <th>144873</th>\n",
       "      <td>5757 Wayne Newton Blvd</td>\n",
       "      <td>{'WiFi': 'free'}</td>\n",
       "      <td>FaHADZARwnY4yvlvpnsfGA</td>\n",
       "      <td>Airports, Hotels &amp; Travel</td>\n",
       "      <td>Las Vegas</td>\n",
       "      <td>{'Monday': '0:0-0:0', 'Tuesday': '0:0-0:0', 'W...</td>\n",
       "      <td>1</td>\n",
       "      <td>36.085016</td>\n",
       "      <td>-115.151009</td>\n",
       "      <td>McCarran International Airport</td>\n",
       "      <td>Southeast</td>\n",
       "      <td>89119</td>\n",
       "      <td>3481</td>\n",
       "      <td>3.5</td>\n",
       "      <td>NV</td>\n",
       "    </tr>\n",
       "  </tbody>\n",
       "</table>\n",
       "</div>"
      ],
      "text/plain": [
       "                       address        attributes             business_id  \\\n",
       "144873  5757 Wayne Newton Blvd  {'WiFi': 'free'}  FaHADZARwnY4yvlvpnsfGA   \n",
       "\n",
       "                       categories       city  \\\n",
       "144873  Airports, Hotels & Travel  Las Vegas   \n",
       "\n",
       "                                                    hours  is_open   latitude  \\\n",
       "144873  {'Monday': '0:0-0:0', 'Tuesday': '0:0-0:0', 'W...        1  36.085016   \n",
       "\n",
       "         longitude                            name neighborhood postal_code  \\\n",
       "144873 -115.151009  McCarran International Airport    Southeast       89119   \n",
       "\n",
       "        review_count  stars state  \n",
       "144873          3481    3.5    NV  "
      ]
     },
     "execution_count": 30,
     "metadata": {},
     "output_type": "execute_result"
    }
   ],
   "source": [
    "business_df.loc[business_df['business_id']=='FaHADZARwnY4yvlvpnsfGA']"
   ]
  },
  {
   "cell_type": "code",
   "execution_count": 12,
   "metadata": {},
   "outputs": [],
   "source": [
    "def ranges(p):\n",
    "    q = sorted(p)\n",
    "    i = 0\n",
    "    for j in range(1,len(q)):\n",
    "        if q[j] > 1+q[j-1]:\n",
    "            yield (q[i],q[j-1])\n",
    "            i = j\n",
    "    yield (q[i], q[-1])\n",
    "    \n",
    "# print(list(ranges(checkins)))"
   ]
  },
  {
   "cell_type": "code",
   "execution_count": 91,
   "metadata": {},
   "outputs": [
    {
     "data": {
      "text/html": [
       "<div>\n",
       "<style scoped>\n",
       "    .dataframe tbody tr th:only-of-type {\n",
       "        vertical-align: middle;\n",
       "    }\n",
       "\n",
       "    .dataframe tbody tr th {\n",
       "        vertical-align: top;\n",
       "    }\n",
       "\n",
       "    .dataframe thead th {\n",
       "        text-align: right;\n",
       "    }\n",
       "</style>\n",
       "<table border=\"1\" class=\"dataframe\">\n",
       "  <thead>\n",
       "    <tr style=\"text-align: right;\">\n",
       "      <th></th>\n",
       "      <th>address</th>\n",
       "      <th>attributes</th>\n",
       "      <th>business_id</th>\n",
       "      <th>categories</th>\n",
       "      <th>city</th>\n",
       "      <th>hours</th>\n",
       "      <th>is_open</th>\n",
       "      <th>latitude</th>\n",
       "      <th>longitude</th>\n",
       "      <th>name</th>\n",
       "      <th>neighborhood</th>\n",
       "      <th>postal_code</th>\n",
       "      <th>review_count</th>\n",
       "      <th>stars</th>\n",
       "      <th>state</th>\n",
       "    </tr>\n",
       "  </thead>\n",
       "  <tbody>\n",
       "    <tr>\n",
       "      <th>14413</th>\n",
       "      <td>5030 Spring Mountain Rd</td>\n",
       "      <td>{'Alcohol': 'none', 'BikeParking': 'False', 'B...</td>\n",
       "      <td>IZivKqtHyz4-ts8KsnvMrA</td>\n",
       "      <td>Juice Bars &amp; Smoothies, Restaurants, Food, Bub...</td>\n",
       "      <td>Las Vegas</td>\n",
       "      <td>{'Monday': '11:0-23:0', 'Tuesday': '11:0-23:0'...</td>\n",
       "      <td>1</td>\n",
       "      <td>36.127020</td>\n",
       "      <td>-115.209644</td>\n",
       "      <td>Kung Fu Tea</td>\n",
       "      <td>Chinatown</td>\n",
       "      <td>89146</td>\n",
       "      <td>1176</td>\n",
       "      <td>4.5</td>\n",
       "      <td>NV</td>\n",
       "    </tr>\n",
       "    <tr>\n",
       "      <th>38398</th>\n",
       "      <td>3400 E Sky Harbor Blvd, Ste 3300</td>\n",
       "      <td>{'WiFi': 'free'}</td>\n",
       "      <td>JmI9nslLD7KZqRr__Bg6NQ</td>\n",
       "      <td>Airports, Hotels &amp; Travel</td>\n",
       "      <td>Phoenix</td>\n",
       "      <td>{'Monday': '0:0-0:0', 'Tuesday': '0:0-0:0', 'W...</td>\n",
       "      <td>1</td>\n",
       "      <td>33.435996</td>\n",
       "      <td>-112.010842</td>\n",
       "      <td>Phoenix Sky Harbor International Airport</td>\n",
       "      <td></td>\n",
       "      <td>85034</td>\n",
       "      <td>2391</td>\n",
       "      <td>3.5</td>\n",
       "      <td>AZ</td>\n",
       "    </tr>\n",
       "    <tr>\n",
       "      <th>54099</th>\n",
       "      <td>5501 Josh Birmingham Pkwy</td>\n",
       "      <td>{'WiFi': 'free'}</td>\n",
       "      <td>yQab5dxZzgBLTEHCw9V7_w</td>\n",
       "      <td>Airports, Hotels &amp; Travel</td>\n",
       "      <td>Charlotte</td>\n",
       "      <td>{'Monday': '0:0-0:0', 'Tuesday': '0:0-0:0', 'W...</td>\n",
       "      <td>1</td>\n",
       "      <td>35.220559</td>\n",
       "      <td>-80.943874</td>\n",
       "      <td>Charlotte Douglas International Airport</td>\n",
       "      <td></td>\n",
       "      <td>28208</td>\n",
       "      <td>1732</td>\n",
       "      <td>3.5</td>\n",
       "      <td>NC</td>\n",
       "    </tr>\n",
       "    <tr>\n",
       "      <th>68042</th>\n",
       "      <td>3355 South Las Vegas Boulevard</td>\n",
       "      <td>{'BusinessAcceptsCreditCards': 'True', 'GoodFo...</td>\n",
       "      <td>Wxxvi3LZbHNIDwJ-ZimtnA</td>\n",
       "      <td>Arts &amp; Entertainment, Casinos, Hotels, Hotels ...</td>\n",
       "      <td>Las Vegas</td>\n",
       "      <td>{'Monday': '0:0-0:0', 'Tuesday': '0:0-0:0', 'W...</td>\n",
       "      <td>1</td>\n",
       "      <td>36.121189</td>\n",
       "      <td>-115.169657</td>\n",
       "      <td>The Venetian Las Vegas</td>\n",
       "      <td>The Strip</td>\n",
       "      <td>89109</td>\n",
       "      <td>3329</td>\n",
       "      <td>4.0</td>\n",
       "      <td>NV</td>\n",
       "    </tr>\n",
       "    <tr>\n",
       "      <th>116244</th>\n",
       "      <td>3708 Las Vegas Blvd S</td>\n",
       "      <td>{'BusinessAcceptsCreditCards': 'True', 'GoodFo...</td>\n",
       "      <td>5LNZ67Yw9RD6nf4_UhXOjw</td>\n",
       "      <td>Event Planning &amp; Services, Casinos, Hotels, Ar...</td>\n",
       "      <td>Las Vegas</td>\n",
       "      <td>{'Monday': '0:0-0:0', 'Tuesday': '0:0-0:0', 'W...</td>\n",
       "      <td>1</td>\n",
       "      <td>36.109755</td>\n",
       "      <td>-115.173877</td>\n",
       "      <td>The Cosmopolitan of Las Vegas</td>\n",
       "      <td>The Strip</td>\n",
       "      <td>89109</td>\n",
       "      <td>4097</td>\n",
       "      <td>4.0</td>\n",
       "      <td>NV</td>\n",
       "    </tr>\n",
       "    <tr>\n",
       "      <th>129493</th>\n",
       "      <td>3600 S Las Vegas Blvd</td>\n",
       "      <td>{'BusinessAcceptsCreditCards': 'True', 'GoodFo...</td>\n",
       "      <td>na4Th5DrNauOv-c43QQFvA</td>\n",
       "      <td>Casinos, Arts &amp; Entertainment, Event Planning ...</td>\n",
       "      <td>Las Vegas</td>\n",
       "      <td>{'Monday': '0:0-0:0', 'Tuesday': '0:0-0:0', 'W...</td>\n",
       "      <td>1</td>\n",
       "      <td>36.112629</td>\n",
       "      <td>-115.176706</td>\n",
       "      <td>Bellagio Hotel</td>\n",
       "      <td>The Strip</td>\n",
       "      <td>89109</td>\n",
       "      <td>3030</td>\n",
       "      <td>3.5</td>\n",
       "      <td>NV</td>\n",
       "    </tr>\n",
       "    <tr>\n",
       "      <th>141265</th>\n",
       "      <td>3799 Las Vegas Blvd S</td>\n",
       "      <td>{'BusinessAcceptsCreditCards': 'True', 'Restau...</td>\n",
       "      <td>El4FC8jcawUVgw_0EIcbaQ</td>\n",
       "      <td>Arts &amp; Entertainment, Hotels &amp; Travel, Event P...</td>\n",
       "      <td>Las Vegas</td>\n",
       "      <td>{'Monday': '0:0-0:0', 'Tuesday': '0:0-0:0', 'W...</td>\n",
       "      <td>1</td>\n",
       "      <td>36.102251</td>\n",
       "      <td>-115.169968</td>\n",
       "      <td>MGM Grand Hotel</td>\n",
       "      <td>The Strip</td>\n",
       "      <td>89109</td>\n",
       "      <td>3730</td>\n",
       "      <td>3.0</td>\n",
       "      <td>NV</td>\n",
       "    </tr>\n",
       "    <tr>\n",
       "      <th>144873</th>\n",
       "      <td>5757 Wayne Newton Blvd</td>\n",
       "      <td>{'WiFi': 'free'}</td>\n",
       "      <td>FaHADZARwnY4yvlvpnsfGA</td>\n",
       "      <td>Airports, Hotels &amp; Travel</td>\n",
       "      <td>Las Vegas</td>\n",
       "      <td>{'Monday': '0:0-0:0', 'Tuesday': '0:0-0:0', 'W...</td>\n",
       "      <td>1</td>\n",
       "      <td>36.085016</td>\n",
       "      <td>-115.151009</td>\n",
       "      <td>McCarran International Airport</td>\n",
       "      <td>Southeast</td>\n",
       "      <td>89119</td>\n",
       "      <td>3481</td>\n",
       "      <td>3.5</td>\n",
       "      <td>NV</td>\n",
       "    </tr>\n",
       "    <tr>\n",
       "      <th>158020</th>\n",
       "      <td>3570 Las Vegas Blvd S</td>\n",
       "      <td>{'BusinessAcceptsCreditCards': 'True', 'GoodFo...</td>\n",
       "      <td>VyjyHoBg3KC5BSFRlD0ZPQ</td>\n",
       "      <td>Hotels, Arts &amp; Entertainment, Event Planning &amp;...</td>\n",
       "      <td>Las Vegas</td>\n",
       "      <td>{'Monday': '0:0-0:0', 'Tuesday': '0:0-0:0', 'W...</td>\n",
       "      <td>1</td>\n",
       "      <td>36.116765</td>\n",
       "      <td>-115.174595</td>\n",
       "      <td>Caesars Palace Las Vegas Hotel &amp; Casino</td>\n",
       "      <td>The Strip</td>\n",
       "      <td>89109</td>\n",
       "      <td>2627</td>\n",
       "      <td>3.0</td>\n",
       "      <td>NV</td>\n",
       "    </tr>\n",
       "    <tr>\n",
       "      <th>174882</th>\n",
       "      <td>3730 Las Vegas Blvd S</td>\n",
       "      <td>{'BusinessAcceptsCreditCards': 'True', 'GoodFo...</td>\n",
       "      <td>SMPbvZLSMMb7KU76YNYMGg</td>\n",
       "      <td>Hotels &amp; Travel, Resorts, Arts &amp; Entertainment...</td>\n",
       "      <td>Las Vegas</td>\n",
       "      <td>{'Monday': '0:0-0:0', 'Tuesday': '0:0-0:0', 'W...</td>\n",
       "      <td>1</td>\n",
       "      <td>36.107621</td>\n",
       "      <td>-115.177040</td>\n",
       "      <td>ARIA Resort &amp; Casino</td>\n",
       "      <td>The Strip</td>\n",
       "      <td>89109</td>\n",
       "      <td>4041</td>\n",
       "      <td>3.5</td>\n",
       "      <td>NV</td>\n",
       "    </tr>\n",
       "  </tbody>\n",
       "</table>\n",
       "</div>"
      ],
      "text/plain": [
       "                                 address  \\\n",
       "14413            5030 Spring Mountain Rd   \n",
       "38398   3400 E Sky Harbor Blvd, Ste 3300   \n",
       "54099          5501 Josh Birmingham Pkwy   \n",
       "68042     3355 South Las Vegas Boulevard   \n",
       "116244             3708 Las Vegas Blvd S   \n",
       "129493             3600 S Las Vegas Blvd   \n",
       "141265             3799 Las Vegas Blvd S   \n",
       "144873            5757 Wayne Newton Blvd   \n",
       "158020             3570 Las Vegas Blvd S   \n",
       "174882             3730 Las Vegas Blvd S   \n",
       "\n",
       "                                               attributes  \\\n",
       "14413   {'Alcohol': 'none', 'BikeParking': 'False', 'B...   \n",
       "38398                                    {'WiFi': 'free'}   \n",
       "54099                                    {'WiFi': 'free'}   \n",
       "68042   {'BusinessAcceptsCreditCards': 'True', 'GoodFo...   \n",
       "116244  {'BusinessAcceptsCreditCards': 'True', 'GoodFo...   \n",
       "129493  {'BusinessAcceptsCreditCards': 'True', 'GoodFo...   \n",
       "141265  {'BusinessAcceptsCreditCards': 'True', 'Restau...   \n",
       "144873                                   {'WiFi': 'free'}   \n",
       "158020  {'BusinessAcceptsCreditCards': 'True', 'GoodFo...   \n",
       "174882  {'BusinessAcceptsCreditCards': 'True', 'GoodFo...   \n",
       "\n",
       "                   business_id  \\\n",
       "14413   IZivKqtHyz4-ts8KsnvMrA   \n",
       "38398   JmI9nslLD7KZqRr__Bg6NQ   \n",
       "54099   yQab5dxZzgBLTEHCw9V7_w   \n",
       "68042   Wxxvi3LZbHNIDwJ-ZimtnA   \n",
       "116244  5LNZ67Yw9RD6nf4_UhXOjw   \n",
       "129493  na4Th5DrNauOv-c43QQFvA   \n",
       "141265  El4FC8jcawUVgw_0EIcbaQ   \n",
       "144873  FaHADZARwnY4yvlvpnsfGA   \n",
       "158020  VyjyHoBg3KC5BSFRlD0ZPQ   \n",
       "174882  SMPbvZLSMMb7KU76YNYMGg   \n",
       "\n",
       "                                               categories       city  \\\n",
       "14413   Juice Bars & Smoothies, Restaurants, Food, Bub...  Las Vegas   \n",
       "38398                           Airports, Hotels & Travel    Phoenix   \n",
       "54099                           Airports, Hotels & Travel  Charlotte   \n",
       "68042   Arts & Entertainment, Casinos, Hotels, Hotels ...  Las Vegas   \n",
       "116244  Event Planning & Services, Casinos, Hotels, Ar...  Las Vegas   \n",
       "129493  Casinos, Arts & Entertainment, Event Planning ...  Las Vegas   \n",
       "141265  Arts & Entertainment, Hotels & Travel, Event P...  Las Vegas   \n",
       "144873                          Airports, Hotels & Travel  Las Vegas   \n",
       "158020  Hotels, Arts & Entertainment, Event Planning &...  Las Vegas   \n",
       "174882  Hotels & Travel, Resorts, Arts & Entertainment...  Las Vegas   \n",
       "\n",
       "                                                    hours  is_open   latitude  \\\n",
       "14413   {'Monday': '11:0-23:0', 'Tuesday': '11:0-23:0'...        1  36.127020   \n",
       "38398   {'Monday': '0:0-0:0', 'Tuesday': '0:0-0:0', 'W...        1  33.435996   \n",
       "54099   {'Monday': '0:0-0:0', 'Tuesday': '0:0-0:0', 'W...        1  35.220559   \n",
       "68042   {'Monday': '0:0-0:0', 'Tuesday': '0:0-0:0', 'W...        1  36.121189   \n",
       "116244  {'Monday': '0:0-0:0', 'Tuesday': '0:0-0:0', 'W...        1  36.109755   \n",
       "129493  {'Monday': '0:0-0:0', 'Tuesday': '0:0-0:0', 'W...        1  36.112629   \n",
       "141265  {'Monday': '0:0-0:0', 'Tuesday': '0:0-0:0', 'W...        1  36.102251   \n",
       "144873  {'Monday': '0:0-0:0', 'Tuesday': '0:0-0:0', 'W...        1  36.085016   \n",
       "158020  {'Monday': '0:0-0:0', 'Tuesday': '0:0-0:0', 'W...        1  36.116765   \n",
       "174882  {'Monday': '0:0-0:0', 'Tuesday': '0:0-0:0', 'W...        1  36.107621   \n",
       "\n",
       "         longitude                                      name neighborhood  \\\n",
       "14413  -115.209644                               Kung Fu Tea    Chinatown   \n",
       "38398  -112.010842  Phoenix Sky Harbor International Airport                \n",
       "54099   -80.943874   Charlotte Douglas International Airport                \n",
       "68042  -115.169657                    The Venetian Las Vegas    The Strip   \n",
       "116244 -115.173877             The Cosmopolitan of Las Vegas    The Strip   \n",
       "129493 -115.176706                            Bellagio Hotel    The Strip   \n",
       "141265 -115.169968                           MGM Grand Hotel    The Strip   \n",
       "144873 -115.151009            McCarran International Airport    Southeast   \n",
       "158020 -115.174595   Caesars Palace Las Vegas Hotel & Casino    The Strip   \n",
       "174882 -115.177040                      ARIA Resort & Casino    The Strip   \n",
       "\n",
       "       postal_code  review_count  stars state  \n",
       "14413        89146          1176    4.5    NV  \n",
       "38398        85034          2391    3.5    AZ  \n",
       "54099        28208          1732    3.5    NC  \n",
       "68042        89109          3329    4.0    NV  \n",
       "116244       89109          4097    4.0    NV  \n",
       "129493       89109          3030    3.5    NV  \n",
       "141265       89109          3730    3.0    NV  \n",
       "144873       89119          3481    3.5    NV  \n",
       "158020       89109          2627    3.0    NV  \n",
       "174882       89109          4041    3.5    NV  "
      ]
     },
     "execution_count": 91,
     "metadata": {},
     "output_type": "execute_result"
    }
   ],
   "source": [
    "top_checkins = sorted(range(len(checkins)), key=lambda x: checkins[x])[-10:]\n",
    "business_df.loc[business_df['business_id'].isin([checkin_df.iloc[x]['business_id'] for x in top_checkins])]"
   ]
  },
  {
   "cell_type": "code",
   "execution_count": 92,
   "metadata": {},
   "outputs": [
    {
     "name": "stdout",
     "output_type": "stream",
     "text": [
      "count     188593\n",
      "unique        69\n",
      "top           AZ\n",
      "freq       56495\n",
      "Name: state, dtype: object\n",
      "31518\n"
     ]
    }
   ],
   "source": [
    "print(business_df['state'].describe())\n",
    "print(business_df.shape[0] - tot)"
   ]
  },
  {
   "cell_type": "code",
   "execution_count": 100,
   "metadata": {},
   "outputs": [
    {
     "name": "stdout",
     "output_type": "stream",
     "text": [
      "Mean: 94.99760860689422\n",
      "SD: 654.2602269799182\n",
      "Median: 10.0\n"
     ]
    }
   ],
   "source": [
    "print(\"Mean:\", np.mean(checkins))\n",
    "print(\"SD:\", np.std(checkins))\n",
    "print(\"Median:\", np.median(checkins))"
   ]
  },
  {
   "cell_type": "code",
   "execution_count": 102,
   "metadata": {},
   "outputs": [
    {
     "name": "stdout",
     "output_type": "stream",
     "text": [
      "[(1, 158858), (2.0, 24572), (3.0, 2981), (4.0, 993), (5.0, 432), (6.0, 254), (7.0, 129), (8.0, 105), (9.0, 70), (10.0, 44), (11.0, 24), (12.0, 17), (13.0, 15), (14.0, 10), (15.0, 8), (16.0, 6), (17.0, 5), (18.0, 6), (19.0, 6), (20.0, 6), (21.0, 2), (22.0, 5), (23.0, 5), (24.0, 6), (25.0, 1), (26.0, 2), (27.0, 4), (28.0, 2), (29.0, 2), (30.0, 1), (31.0, 1), (32.0, 2), (35.0, 5), (40.0, 2), (41.0, 1), (44.0, 1), (45.0, 1), (46.0, 1), (48.0, 1), (50.0, 1), (53.0, 1), (57.0, 1), (71.0, 1), (82.0, 1), (182.0, 1), (213.0, 1)]\n",
      "0.8423324301538233\n"
     ]
    }
   ],
   "source": [
    "import itertools\n",
    "\n",
    "def random_normalizer(x):\n",
    "    if x <= 94.99760:\n",
    "        return 1\n",
    "    else:\n",
    "        return x//654.260 + 2\n",
    "    \n",
    "checkins_sd_bins = [random_normalizer(x) for x in checkins]\n",
    "checkins_sd_bins.sort()\n",
    "checkins_sd_bins_sizes = [(g[0], len(list(g[1]))) for g in itertools.groupby(checkins_sd_bins)]\n",
    "print(checkins_sd_bins_sizes)\n",
    "print(158858/len(checkins))"
   ]
  },
  {
   "cell_type": "code",
   "execution_count": 95,
   "metadata": {},
   "outputs": [
    {
     "data": {
      "text/plain": [
       "[<matplotlib.lines.Line2D at 0x7f3cde919d30>]"
      ]
     },
     "execution_count": 95,
     "metadata": {},
     "output_type": "execute_result"
    },
    {
     "data": {
      "image/png": "[encoded data removed]",
      "text/plain": [
       "<Figure size 432x288 with 1 Axes>"
      ]
     },
     "metadata": {},
     "output_type": "display_data"
    }
   ],
   "source": [
    "import scipy.stats as stats\n",
    "import pylab as pl\n",
    "\n",
    "h = [] + checkins\n",
    "h.sort()\n",
    "h = h[:-3000]\n",
    "hmean = np.mean(h)\n",
    "hstd = np.std(h)\n",
    "pdf = stats.norm.pdf(h, hmean, hstd)\n",
    "plt.plot(h, pdf) # including h here is crucial"
   ]
  },
  {
   "cell_type": "code",
   "execution_count": null,
   "metadata": {},
   "outputs": [],
   "source": []
  }
 ],
 "metadata": {
  "kernelspec": {
   "display_name": "Python 3",
   "language": "python",
   "name": "python3"
  }
 },
 "nbformat": 4,
 "nbformat_minor": 2
}
