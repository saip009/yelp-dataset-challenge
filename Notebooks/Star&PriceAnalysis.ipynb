{
 "cells": [
  {
   "cell_type": "code",
   "execution_count": 1,
   "metadata": {},
   "outputs": [
    {
     "name": "stdout",
     "output_type": "stream",
     "text": [
      "{'business_id': 'Apn5Q_b6Nz61Tq4XzPdf9A', 'name': 'Minhas Micro Brewery', 'neighborhood': '', 'address': '1314 44 Avenue NE', 'city': 'Calgary', 'state': 'AB', 'postal_code': 'T2E 6L6', 'latitude': 51.0918130155, 'longitude': -114.031674872, 'stars': 4.0, 'review_count': 24, 'is_open': 1, 'attributes': {'BikeParking': 'False', 'BusinessAcceptsCreditCards': 'True', 'BusinessParking': \"{'garage': False, 'street': True, 'validated': False, 'lot': False, 'valet': False}\", 'GoodForKids': 'True', 'HasTV': 'True', 'NoiseLevel': 'average', 'OutdoorSeating': 'False', 'RestaurantsAttire': 'casual', 'RestaurantsDelivery': 'False', 'RestaurantsGoodForGroups': 'True', 'RestaurantsPriceRange2': '2', 'RestaurantsReservations': 'True', 'RestaurantsTakeOut': 'True'}, 'categories': 'Tours, Breweries, Pizza, Restaurants, Food, Hotels & Travel', 'hours': {'Monday': '8:30-17:0', 'Tuesday': '11:0-21:0', 'Wednesday': '11:0-21:0', 'Thursday': '11:0-21:0', 'Friday': '11:0-21:0', 'Saturday': '11:0-21:0'}}\n"
     ]
    }
   ],
   "source": [
    "import json\n",
    "\n",
    "business=[]\n",
    "with open('../Data/raw/yelp_academic_dataset_business.json',encoding='utf-8') as f:\n",
    "    for line in f:\n",
    "        business.append(json.loads(line))\n",
    "    \n",
    "print(business[0])\n",
    "    "
   ]
  },
  {
   "cell_type": "code",
   "execution_count": 2,
   "metadata": {},
   "outputs": [
    {
     "name": "stdout",
     "output_type": "stream",
     "text": [
      "No of businesses  188593\n",
      "No of businesses with star and price ratings  107120\n"
     ]
    }
   ],
   "source": [
    "print(\"No of businesses \",len(business))\n",
    "price=[]\n",
    "init_stars=[]\n",
    "for i in range(0,len(business)):\n",
    "    #print(i,\" stars: \",business[i]['stars'])\n",
    "    if(business[i]['attributes'] is not None and 'RestaurantsPriceRange2' in business[i]['attributes'].keys()):\n",
    "        #print(i,\" price: \",business[i]['attributes']['RestaurantsPriceRange2'])\n",
    "        price.append(int(business[i]['attributes']['RestaurantsPriceRange2']))\n",
    "        init_stars.append(business[i]['stars'])\n",
    "        \n",
    "print(\"No of businesses with star and price ratings \",len(price))\n",
    "#print(len(init_stars))"
   ]
  },
  {
   "cell_type": "code",
   "execution_count": 75,
   "metadata": {},
   "outputs": [
    {
     "name": "stdout",
     "output_type": "stream",
     "text": [
      "3.575896191187453 0.877730796676484\n",
      "1.5548097205206075e-16 1.0\n"
     ]
    }
   ],
   "source": [
    "x_mean = np.mean(init_stars)\n",
    "x_var = np.std(init_stars)\n",
    "print(x_mean, x_var)\n",
    "\n",
    "n_mean = np.mean(nstars)\n",
    "n_var = np.std(nstars)\n",
    "print(n_mean, n_var)\n",
    "\n",
    "#"
   ]
  },
  {
   "cell_type": "code",
   "execution_count": 4,
   "metadata": {},
   "outputs": [
    {
     "data": {
      "text/plain": [
       "<matplotlib.axes._subplots.AxesSubplot at 0x2a48a2fa780>"
      ]
     },
     "execution_count": 4,
     "metadata": {},
     "output_type": "execute_result"
    },
    {
     "data": {
      "image/png": "[encoded data removed]",
      "text/plain": [
       "<Figure size 432x288 with 1 Axes>"
      ]
     },
     "metadata": {
      "needs_background": "light"
     },
     "output_type": "display_data"
    }
   ],
   "source": [
    "import pandas as pd\n",
    "df = pd.DataFrame(business)\n",
    "stars=[1,1.5,2,2.5,3,3.5,4,4.5,5]\n",
    "#print(df.head(1))\n",
    "df['stars'].value_counts().reindex(stars).plot(kind='bar')\n"
   ]
  },
  {
   "cell_type": "code",
   "execution_count": 8,
   "metadata": {
    "scrolled": true
   },
   "outputs": [
    {
     "name": "stdout",
     "output_type": "stream",
     "text": [
      "For star ratings:\n",
      "Mean 3.58\n",
      "SD 0.88\n"
     ]
    },
    {
     "data": {
      "image/png": "[encoded data removed]",
      "text/plain": [
       "<Figure size 432x288 with 1 Axes>"
      ]
     },
     "metadata": {
      "needs_background": "light"
     },
     "output_type": "display_data"
    },
    {
     "data": {
      "image/png": "[encoded data removed]",
      "text/plain": [
       "<Figure size 432x288 with 1 Axes>"
      ]
     },
     "metadata": {
      "needs_background": "light"
     },
     "output_type": "display_data"
    },
    {
     "name": "stdout",
     "output_type": "stream",
     "text": [
      "After z-normalization \n",
      "Mean  0.0\n",
      "SD  1.0\n"
     ]
    },
    {
     "data": {
      "image/png": "[encoded data removed]",
      "text/plain": [
       "<Figure size 432x288 with 1 Axes>"
      ]
     },
     "metadata": {
      "needs_background": "light"
     },
     "output_type": "display_data"
    },
    {
     "data": {
      "image/png": "[encoded data removed]",
      "text/plain": [
       "<Figure size 432x288 with 1 Axes>"
      ]
     },
     "metadata": {
      "needs_background": "light"
     },
     "output_type": "display_data"
    }
   ],
   "source": [
    "import matplotlib.pyplot as plt\n",
    "import collections\n",
    "import numpy as np\n",
    "mean=np.mean(init_stars)\n",
    "std=np.std(init_stars)\n",
    "nstars=[]\n",
    "print(\"For star ratings:\")\n",
    "print(\"Mean\", round(mean,2))\n",
    "print(\"SD\", round(std,2))\n",
    "\n",
    "for i in range(0,len(init_stars)):\n",
    "    nstars.append((init_stars[i]-mean)/std)\n",
    "\n",
    "#print(collections.Counter(init_stars))\n",
    "plt.hist(init_stars)\n",
    "plt.show()\n",
    "\n",
    "d = np.diff(np.unique(init_stars)).min()\n",
    "left_of_first_bin = np.min(init_stars) - float(d)/2\n",
    "right_of_last_bin = np.max(init_stars) + float(d)/2\n",
    "plt.hist(init_stars, np.arange(left_of_first_bin, right_of_last_bin +d, d))\n",
    "plt.show()\n",
    "\n",
    "print(\"After z-normalization \")\n",
    "print(\"Mean \",round(np.mean(nstars),2))\n",
    "print(\"SD \",np.std(nstars))\n",
    "\n",
    "#plt.hist(nstars,bins=[-3,-2.5,-2,-1.5,-1,-0.5,0,0.5,1,1.5,2])\n",
    "#plt.show()\n",
    "plt.hist(nstars)\n",
    "plt.show()\n",
    "\n",
    "#print(collections.Counter(nstars))\n",
    "\n",
    "d = np.diff(np.unique(nstars)).min()\n",
    "left_of_first_bin = np.min(nstars) - float(d)/2\n",
    "right_of_last_bin = np.max(nstars) + float(d)/2\n",
    "plt.hist(nstars, np.arange(left_of_first_bin, right_of_last_bin +d, d))\n",
    "plt.show()"
   ]
  },
  {
   "cell_type": "code",
   "execution_count": 9,
   "metadata": {},
   "outputs": [
    {
     "name": "stdout",
     "output_type": "stream",
     "text": [
      "For price ratings:\n",
      "Mean  1.8237023898431666\n",
      "SD  0.6782771773781116\n"
     ]
    },
    {
     "data": {
      "image/png": "[encoded data removed]",
      "text/plain": [
       "<Figure size 432x288 with 1 Axes>"
      ]
     },
     "metadata": {
      "needs_background": "light"
     },
     "output_type": "display_data"
    },
    {
     "data": {
      "image/png": "[encoded data removed]",
      "text/plain": [
       "<Figure size 432x288 with 1 Axes>"
      ]
     },
     "metadata": {
      "needs_background": "light"
     },
     "output_type": "display_data"
    },
    {
     "name": "stdout",
     "output_type": "stream",
     "text": [
      "After z-normalization \n",
      "Mean  -1.608538213422557e-17\n",
      "SD  1.0\n"
     ]
    },
    {
     "data": {
      "image/png": "[encoded data removed]",
      "text/plain": [
       "<Figure size 432x288 with 1 Axes>"
      ]
     },
     "metadata": {
      "needs_background": "light"
     },
     "output_type": "display_data"
    }
   ],
   "source": [
    "import numpy as np\n",
    "import matplotlib.pyplot as plt\n",
    "\n",
    "print(\"For price ratings:\")\n",
    "print(\"Mean \",np.mean(price))\n",
    "print(\"SD \",np.std(price))\n",
    "pmean=np.mean(price)\n",
    "pstd=np.std(price)\n",
    "plt.hist(price)\n",
    "plt.show()\n",
    "d = np.diff(np.unique(price)).min()\n",
    "left_of_first_bin = np.min(price) - float(d)/2\n",
    "right_of_last_bin = np.max(price) + float(d)/2\n",
    "plt.hist(price, np.arange(left_of_first_bin, right_of_last_bin +d, d))\n",
    "plt.show()\n",
    "\n",
    "nprice=[]\n",
    "for i in range(0,len(price)):\n",
    "    nprice.append((price[i]-pmean)/pstd)\n",
    "    \n",
    "print(\"After z-normalization \")\n",
    "\n",
    "print(\"Mean \",np.mean(nprice))\n",
    "print(\"SD \",np.std(nprice))\n",
    "d = np.diff(np.unique(nprice)).min()\n",
    "left_of_first_bin = np.min(nprice) - float(d)/2\n",
    "right_of_last_bin = np.max(nprice) + float(d)/2\n",
    "plt.hist(nprice, np.arange(left_of_first_bin, right_of_last_bin +d, d))\n",
    "plt.show()\n",
    "#df.plot(x='stars',y='review_count',style='o')\n",
    "#df['stars'].value_counts().reindex(stars).plot(kind='bar')"
   ]
  }
 ],
 "metadata": {
  "kernelspec": {
   "display_name": "Python 3",
   "language": "python",
   "name": "python3"
  },
  "language_info": {
   "codemirror_mode": {
    "name": "ipython",
    "version": 3
   },
   "file_extension": ".py",
   "mimetype": "text/x-python",
   "name": "python",
   "nbconvert_exporter": "python",
   "pygments_lexer": "ipython3",
   "version": "3.6.4"
  }
 },
 "nbformat": 4,
 "nbformat_minor": 2
}
