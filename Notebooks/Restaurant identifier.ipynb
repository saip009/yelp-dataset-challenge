{
 "cells": [
  {
   "cell_type": "markdown",
   "metadata": {},
   "source": [
    "## Exploratory analysis of Attributes & Categories\n",
    "In this document we look at the various attributes and categories of the buisnesses in the yelp dataset."
   ]
  },
  {
   "cell_type": "code",
   "execution_count": 2,
   "metadata": {},
   "outputs": [],
   "source": [
    "import json\n",
    "import itertools as it\n",
    "import pandas as pd"
   ]
  },
  {
   "cell_type": "code",
   "execution_count": 3,
   "metadata": {},
   "outputs": [],
   "source": [
    "businesses = sc.textFile('../data/raw/yelp_academic_dataset_business.json') \\\n",
    "    .map(lambda row: json.loads(row)) \\\n",
    "    .map(lambda row: (row['business_id'], row)) \\\n",
    "    .cache()"
   ]
  },
  {
   "cell_type": "code",
   "execution_count": 4,
   "metadata": {},
   "outputs": [
    {
     "data": {
      "text/plain": [
       "188593"
      ]
     },
     "execution_count": 4,
     "metadata": {},
     "output_type": "execute_result"
    }
   ],
   "source": [
    "businesses.count()"
   ]
  },
  {
   "cell_type": "code",
   "execution_count": 5,
   "metadata": {},
   "outputs": [],
   "source": [
    "categories = businesses.filter(lambda row: row[1]['categories'] is not None) \\\n",
    "    .flatMap(lambda row: zip((x.strip() for x in row[1]['categories'].split(',')), it.repeat(row[0]))) \\\n",
    "    .cache()"
   ]
  },
  {
   "cell_type": "code",
   "execution_count": 6,
   "metadata": {},
   "outputs": [],
   "source": [
    "category_counts = pd.Series(categories.countByKey())"
   ]
  },
  {
   "cell_type": "code",
   "execution_count": 7,
   "metadata": {},
   "outputs": [
    {
     "data": {
      "text/plain": [
       "Restaurants                  57173\n",
       "Shopping                     30231\n",
       "Food                         27118\n",
       "Beauty & Spas                18967\n",
       "Home Services                18634\n",
       "Health & Medical             16157\n",
       "Local Services               12906\n",
       "Automotive                   12656\n",
       "Nightlife                    12438\n",
       "Bars                         10853\n",
       "Event Planning & Services     9774\n",
       "Active Life                   9119\n",
       "Fashion                       7406\n",
       "Coffee & Tea                  6936\n",
       "Sandwiches                    6912\n",
       "Hair Salons                   6825\n",
       "Fast Food                     6812\n",
       "American (Traditional)        6659\n",
       "Pizza                         6603\n",
       "Home & Garden                 6020\n",
       "dtype: int64"
      ]
     },
     "execution_count": 7,
     "metadata": {},
     "output_type": "execute_result"
    }
   ],
   "source": [
    "category_counts.sort_values(ascending=False).head(n=20)"
   ]
  },
  {
   "cell_type": "code",
   "execution_count": 8,
   "metadata": {},
   "outputs": [
    {
     "data": {
      "text/plain": [
       "Restaurants             Food                      5860\n",
       "Food                    Restaurants               5807\n",
       "Nightlife               Restaurants               4014\n",
       "Restaurants             Nightlife                 3934\n",
       "                        Bars                      3922\n",
       "Nightlife               Bars                      3885\n",
       "Bars                    Nightlife                 3761\n",
       "                        Restaurants               3724\n",
       "Fast Food               Restaurants               3479\n",
       "Restaurants             Sandwiches                3477\n",
       "Sandwiches              Restaurants               3435\n",
       "Restaurants             American (Traditional)    3392\n",
       "                        Fast Food                 3333\n",
       "                        Pizza                     3311\n",
       "Pizza                   Restaurants               3292\n",
       "American (Traditional)  Restaurants               3267\n",
       "Restaurants             Burgers                   2655\n",
       "                        Breakfast & Brunch        2602\n",
       "Burgers                 Restaurants               2471\n",
       "Breakfast & Brunch      Restaurants               2421\n",
       "Restaurants             Italian                   2304\n",
       "                        Mexican                   2292\n",
       "Italian                 Restaurants               2246\n",
       "Restaurants             American (New)            2188\n",
       "Chinese                 Restaurants               2139\n",
       "Mexican                 Restaurants               2127\n",
       "Restaurants             Chinese                   2108\n",
       "American (New)          Restaurants               2042\n",
       "Food                    Coffee & Tea              1604\n",
       "Restaurants             Cafes                     1569\n",
       "                        Coffee & Tea              1569\n",
       "Coffee & Tea            Restaurants               1539\n",
       "                        Food                      1504\n",
       "Cafes                   Restaurants               1487\n",
       "Nightlife               Restaurants               1344\n",
       "                        American (Traditional)    1325\n",
       "Restaurants             Japanese                  1319\n",
       "                        Bars                      1313\n",
       "Bars                    American (Traditional)    1303\n",
       "Restaurants             Chicken Wings             1284\n",
       "Nightlife               Bars                      1276\n",
       "Restaurants             Nightlife                 1265\n",
       "American (Traditional)  Nightlife                 1257\n",
       "Chicken Wings           Restaurants               1254\n",
       "Japanese                Restaurants               1247\n",
       "American (Traditional)  Bars                      1241\n",
       "Bars                    Nightlife                 1239\n",
       "                        Restaurants               1209\n",
       "Restaurants             Salad                     1202\n",
       "                        Seafood                   1186\n",
       "dtype: int64"
      ]
     },
     "execution_count": 8,
     "metadata": {},
     "output_type": "execute_result"
    }
   ],
   "source": [
    "category_cooccurence = businesses.filter(lambda row: row[1]['categories'] is not None) \\\n",
    "    .map(lambda row: [x.strip() for x in row[1]['categories'].split(',')]) \\\n",
    "    .filter(lambda row: 'Restaurants' in row) \\\n",
    "    .flatMap(lambda row: [(x, 1) for i in range(2, 5) for x in it.combinations(row, i)]) \\\n",
    "    .countByKey()\n",
    "\n",
    "pd.Series(category_cooccurence).sort_values(ascending=False).head(50)"
   ]
  },
  {
   "cell_type": "code",
   "execution_count": 9,
   "metadata": {},
   "outputs": [
    {
     "data": {
      "text/plain": [
       "Shopping                     29786\n",
       "Beauty & Spas                18897\n",
       "Home Services                18584\n",
       "Health & Medical             16109\n",
       "Food                         15451\n",
       "Local Services               12838\n",
       "Automotive                   12586\n",
       "Active Life                   8885\n",
       "Event Planning & Services     7527\n",
       "Fashion                       7360\n",
       "Hair Salons                   6801\n",
       "Home & Garden                 5954\n",
       "Auto Repair                   5868\n",
       "Professional Services         5589\n",
       "Hotels & Travel               5500\n",
       "Doctors                       5444\n",
       "Real Estate                   5278\n",
       "Arts & Entertainment          4978\n",
       "Nail Salons                   4828\n",
       "Fitness & Instruction         4538\n",
       "Nightlife                     4490\n",
       "Pets                          3982\n",
       "Coffee & Tea                  3828\n",
       "Hair Removal                  3759\n",
       "Dentists                      3434\n",
       "Skin Care                     3226\n",
       "Bars                          3207\n",
       "Education                     2986\n",
       "Financial Services            2924\n",
       "Grocery                       2908\n",
       "Contractors                   2844\n",
       "Women's Clothing              2804\n",
       "Pet Services                  2752\n",
       "Specialty Food                2717\n",
       "General Dentistry             2676\n",
       "Massage                       2609\n",
       "Day Spas                      2504\n",
       "Hotels                        2366\n",
       "Apartments                    2328\n",
       "Waxing                        2246\n",
       "Gyms                          2232\n",
       "Tires                         2170\n",
       "Bakeries                      2090\n",
       "Oil Change Stations           2052\n",
       "Accessories                   2030\n",
       "Sporting Goods                2009\n",
       "Flowers & Gifts               2004\n",
       "Cosmetics & Beauty Supply     1982\n",
       "Cosmetic Dentists             1952\n",
       "Hair Stylists                 1935\n",
       "dtype: int64"
      ]
     },
     "execution_count": 9,
     "metadata": {},
     "output_type": "execute_result"
    }
   ],
   "source": [
    "non_restaurants = pd.Series(businesses.filter(lambda row: row[1]['categories'] is not None) \\\n",
    "    .map(lambda row: [x.strip() for x in row[1]['categories'].split(',')]) \\\n",
    "    .filter(lambda row: 'Restaurants' not in row) \\\n",
    "    .flatMap(lambda row: zip(row, it.repeat(1)))\n",
    "    .countByKey())\n",
    "\n",
    "non_restaurants.sort_values(ascending=False).head(n=50)"
   ]
  },
  {
   "cell_type": "code",
   "execution_count": 10,
   "metadata": {},
   "outputs": [
    {
     "data": {
      "text/plain": [
       "Shopping                     27496\n",
       "Home Services                18524\n",
       "Beauty & Spas                18488\n",
       "Health & Medical             15880\n",
       "Local Services               12714\n",
       "Automotive                   11776\n",
       "Active Life                   8721\n",
       "Fashion                       7011\n",
       "Event Planning & Services     6845\n",
       "Hair Salons                   6795\n",
       "Auto Repair                   5861\n",
       "Home & Garden                 5819\n",
       "Professional Services         5537\n",
       "Doctors                       5428\n",
       "Hotels & Travel               5333\n",
       "Real Estate                   5268\n",
       "Nail Salons                   4826\n",
       "Fitness & Instruction         4490\n",
       "Arts & Entertainment          4266\n",
       "Pets                          3949\n",
       "Hair Removal                  3754\n",
       "Dentists                      3434\n",
       "Skin Care                     3211\n",
       "Financial Services            2921\n",
       "Education                     2911\n",
       "Contractors                   2839\n",
       "Women's Clothing              2790\n",
       "Pet Services                  2740\n",
       "General Dentistry             2676\n",
       "Massage                       2592\n",
       "Day Spas                      2495\n",
       "Apartments                    2328\n",
       "Hotels                        2317\n",
       "Waxing                        2245\n",
       "Gyms                          2220\n",
       "Tires                         2151\n",
       "Oil Change Stations           2037\n",
       "Accessories                   2012\n",
       "Sporting Goods                1988\n",
       "Cosmetic Dentists             1952\n",
       "Hair Stylists                 1934\n",
       "Barbers                       1919\n",
       "Car Dealers                   1918\n",
       "Auto Parts & Supplies         1915\n",
       "Trainers                      1863\n",
       "Home Decor                    1845\n",
       "Furniture Stores              1788\n",
       "Eyelash Service               1716\n",
       "Massage Therapy               1701\n",
       "Men's Clothing                1697\n",
       "dtype: int64"
      ]
     },
     "execution_count": 10,
     "metadata": {},
     "output_type": "execute_result"
    }
   ],
   "source": [
    "non_restaurants_and_food_and_bars = pd.Series(businesses.filter(lambda row: row[1]['categories'] is not None) \\\n",
    "    .map(lambda row: [x.strip() for x in row[1]['categories'].split(',')]) \\\n",
    "    .filter(lambda row: 'Restaurants' not in row and 'Food' not in row and 'Bars' not in row) \\\n",
    "    .flatMap(lambda row: zip(row, it.repeat(1)))\n",
    "    .countByKey())\n",
    "\n",
    "non_restaurants_and_food_and_bars.sort_values(ascending=False).head(n=50)"
   ]
  },
  {
   "cell_type": "code",
   "execution_count": 11,
   "metadata": {},
   "outputs": [],
   "source": [
    "selected_businesses_count = categories.filter(lambda row: row[0] in {'Restaurants', 'Food', 'Bar'}) \\\n",
    "    .map(lambda row: row[1]) \\\n",
    "    .distinct().count()"
   ]
  },
  {
   "cell_type": "code",
   "execution_count": 12,
   "metadata": {},
   "outputs": [
    {
     "data": {
      "text/plain": [
       "72624"
      ]
     },
     "execution_count": 12,
     "metadata": {},
     "output_type": "execute_result"
    }
   ],
   "source": [
    "selected_businesses_count"
   ]
  },
  {
   "cell_type": "code",
   "execution_count": 15,
   "metadata": {},
   "outputs": [],
   "source": [
    "attributes = businesses.filter(lambda row: row[1]['attributes'] is not None) \\\n",
    "    .flatMap(lambda row: row[1]['attributes'].keys()) \\\n",
    "    .distinct().collect()"
   ]
  },
  {
   "cell_type": "code",
   "execution_count": 16,
   "metadata": {
    "scrolled": true
   },
   "outputs": [
    {
     "data": {
      "text/plain": [
       "['RestaurantsGoodForGroups',\n",
       " 'RestaurantsReservations',\n",
       " 'RestaurantsTakeOut',\n",
       " 'Caters',\n",
       " 'BYOBCorkage',\n",
       " 'BusinessAcceptsBitcoin',\n",
       " 'Open24Hours',\n",
       " 'DietaryRestrictions',\n",
       " 'OutdoorSeating',\n",
       " 'RestaurantsDelivery',\n",
       " 'DriveThru',\n",
       " 'Ambience',\n",
       " 'BYOB',\n",
       " 'Music',\n",
       " 'Smoking',\n",
       " 'RestaurantsCounterService',\n",
       " 'BusinessAcceptsCreditCards',\n",
       " 'GoodForKids',\n",
       " 'HasTV',\n",
       " 'DogsAllowed',\n",
       " 'RestaurantsTableService',\n",
       " 'AcceptsInsurance',\n",
       " 'BusinessParking',\n",
       " 'RestaurantsAttire',\n",
       " 'RestaurantsPriceRange2',\n",
       " 'GoodForMeal',\n",
       " 'WheelchairAccessible',\n",
       " 'BestNights',\n",
       " 'CoatCheck',\n",
       " 'Corkage',\n",
       " 'GoodForDancing',\n",
       " 'HappyHour',\n",
       " 'HairSpecializesIn',\n",
       " 'AgesAllowed',\n",
       " 'BikeParking',\n",
       " 'NoiseLevel',\n",
       " 'Alcohol',\n",
       " 'WiFi',\n",
       " 'ByAppointmentOnly']"
      ]
     },
     "execution_count": 16,
     "metadata": {},
     "output_type": "execute_result"
    }
   ],
   "source": [
    "attributes"
   ]
  },
  {
   "cell_type": "code",
   "execution_count": null,
   "metadata": {},
   "outputs": [],
   "source": []
  }
 ],
 "metadata": {
  "kernelspec": {
   "display_name": "Python 3",
   "language": "python",
   "name": "python3"
  },
  "language_info": {
   "codemirror_mode": {
    "name": "ipython",
    "version": 3
   },
   "file_extension": ".py",
   "mimetype": "text/x-python",
   "name": "python",
   "nbconvert_exporter": "python",
   "pygments_lexer": "ipython3",
   "version": "3.6.5"
  }
 },
 "nbformat": 4,
 "nbformat_minor": 2
}
