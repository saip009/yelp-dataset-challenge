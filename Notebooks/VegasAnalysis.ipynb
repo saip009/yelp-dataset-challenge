{
 "cells": [
  {
   "cell_type": "code",
   "execution_count": 1,
   "metadata": {
    "scrolled": true
   },
   "outputs": [
    {
     "name": "stdout",
     "output_type": "stream",
     "text": [
      "(72624, 15)\n",
      "             address                                         attributes  \\\n",
      "0  1314 44 Avenue NE  {'BikeParking': 'False', 'BusinessAcceptsCredi...   \n",
      "\n",
      "              business_id                                         categories  \\\n",
      "0  Apn5Q_b6Nz61Tq4XzPdf9A  [Tours, Breweries, Pizza, Restaurants, Food, H...   \n",
      "\n",
      "      city                                              hours  is_open  \\\n",
      "0  Calgary  {'Monday': '8:30-17:0', 'Tuesday': '11:0-21:0'...        1   \n",
      "\n",
      "    latitude   longitude                  name neighborhood postal_code  \\\n",
      "0  51.091813 -114.031675  Minhas Micro Brewery                  T2E 6L6   \n",
      "\n",
      "   review_count  stars state  \n",
      "0            24    4.0    AB  \n"
     ]
    }
   ],
   "source": [
    "import json\n",
    "import pandas as pd\n",
    "\n",
    "business=[]\n",
    "with open('../Data/raw/yelp_academic_dataset_business.json',encoding='utf-8') as f:\n",
    "    for line in f:\n",
    "        r=json.loads(line)\n",
    "        catr = r['categories']\n",
    "        if(catr!=None):\n",
    "            cat_list=catr.split(', ')\n",
    "            if('Restaurants' in cat_list or 'Food' in cat_list or 'Bar' in cat_list):\n",
    "                r['categories']=cat_list\n",
    "                business.append(r)\n",
    "    \n",
    "businessdf = pd.DataFrame(business)\n",
    "print(businessdf.shape)\n",
    "print(businessdf.head(1))\n",
    "   "
   ]
  },
  {
   "cell_type": "code",
   "execution_count": 2,
   "metadata": {
    "scrolled": false
   },
   "outputs": [
    {
     "data": {
      "text/plain": [
       "Toronto                    9674\n",
       "Las Vegas                  7971\n",
       "Phoenix                    4996\n",
       "Montréal                   4251\n",
       "Calgary                    3565\n",
       "Charlotte                  3354\n",
       "Pittsburgh                 3009\n",
       "Scottsdale                 1954\n",
       "Cleveland                  1774\n",
       "Mississauga                1678\n",
       "Mesa                       1529\n",
       "Madison                    1424\n",
       "Tempe                      1304\n",
       "Henderson                  1137\n",
       "Chandler                   1102\n",
       "Markham                    1018\n",
       "Glendale                    892\n",
       "Gilbert                     753\n",
       "Scarborough                 652\n",
       "Brampton                    594\n",
       "Richmond Hill               581\n",
       "North York                  552\n",
       "Vaughan                     536\n",
       "Champaign                   491\n",
       "Peoria                      470\n",
       "North Las Vegas             467\n",
       "Concord                     417\n",
       "Oakville                    407\n",
       "Etobicoke                   390\n",
       "Surprise                    302\n",
       "                           ... \n",
       "Sainte-Anne-des-Plaines       1\n",
       "Southeast Calgary             1\n",
       "Villa Rosa                    1\n",
       "Walton Hills                  1\n",
       "Ranlo                         1\n",
       "Indian Lands                  1\n",
       "St-Benoît de Mirabel          1\n",
       "North Braddock                1\n",
       "Bois-des-Filion               1\n",
       "St-Eugène                     1\n",
       "Ville-Marie                   1\n",
       "Upper St. Clair               1\n",
       "Palgrave                      1\n",
       "Topaz                         1\n",
       "Caledon Village               1\n",
       "North Olmsted,                1\n",
       "Les Coteaux                   1\n",
       "Cuyahoga Heights              1\n",
       "Metro Phoenix                 1\n",
       "Indianola                     1\n",
       "Ross                          1\n",
       "Robinson                      1\n",
       "Ashburn                       1\n",
       "Phx                           1\n",
       "Venise-En-Quebec              1\n",
       "North  York                   1\n",
       "Old Port of Montreal          1\n",
       "South Amherst                 1\n",
       "Sainte-Rose                   1\n",
       "North of Brampton             1\n",
       "Name: city, Length: 817, dtype: int64"
      ]
     },
     "execution_count": 2,
     "metadata": {},
     "output_type": "execute_result"
    }
   ],
   "source": [
    "businessdf.city.value_counts()"
   ]
  },
  {
   "cell_type": "code",
   "execution_count": 3,
   "metadata": {},
   "outputs": [
    {
     "name": "stdout",
     "output_type": "stream",
     "text": [
      "(7971, 15)\n",
      "                                  address  \\\n",
      "13  3940 Martin Luther King Blvd, Ste 101   \n",
      "\n",
      "                                           attributes             business_id  \\\n",
      "13  {'BikeParking': 'True', 'BusinessAcceptsCredit...  vJIuDBdu01vCA8y1fwR1OQ   \n",
      "\n",
      "                                           categories       city  \\\n",
      "13  [American (Traditional), Food, Bakeries, Resta...  Las Vegas   \n",
      "\n",
      "                                                hours  is_open   latitude  \\\n",
      "13  {'Tuesday': '11:0-18:0', 'Wednesday': '11:0-18...        0  36.192284   \n",
      "\n",
      "     longitude        name neighborhood postal_code  review_count  stars state  \n",
      "13 -115.159272  CakesbyToi                    89106             3    1.5    NV  \n"
     ]
    }
   ],
   "source": [
    "\n",
    "vdf=businessdf.loc[businessdf['city'] == 'Las Vegas']\n",
    "print(vdf.shape)\n",
    "print(vdf.head(1))\n"
   ]
  },
  {
   "cell_type": "code",
   "execution_count": 7,
   "metadata": {},
   "outputs": [
    {
     "name": "stdout",
     "output_type": "stream",
     "text": [
      "Star ratings\n",
      "Mean  3.5\n",
      "SD  0.83\n",
      "Counter({4.0: 1925, 3.5: 1809, 3.0: 1269, 4.5: 1080, 2.5: 840, 2.0: 478, 5.0: 376, 1.5: 152, 1.0: 42})\n"
     ]
    },
    {
     "data": {
      "image/png": "[encoded data removed]",
      "text/plain": [
       "<Figure size 432x288 with 1 Axes>"
      ]
     },
     "metadata": {
      "needs_background": "light"
     },
     "output_type": "display_data"
    },
    {
     "name": "stdout",
     "output_type": "stream",
     "text": [
      "After normalization \n",
      "Mean  -1.230145496611389e-16\n",
      "SD  0.9999999999999999\n"
     ]
    },
    {
     "data": {
      "image/png": "[encoded data removed]",
      "text/plain": [
       "<Figure size 432x288 with 1 Axes>"
      ]
     },
     "metadata": {
      "needs_background": "light"
     },
     "output_type": "display_data"
    }
   ],
   "source": [
    "import matplotlib.pyplot as plt\n",
    "import collections\n",
    "import numpy as np\n",
    "\n",
    "vegas_stars = vdf['stars'].values.tolist()\n",
    "\n",
    "mean=np.mean(vegas_stars)\n",
    "std=np.std(vegas_stars)\n",
    "\n",
    "print(\"Star ratings\")\n",
    "print(\"Mean \",round(mean,2))\n",
    "print(\"SD \",round(std,2))\n",
    "\n",
    "print(collections.Counter(vegas_stars))\n",
    "\n",
    "\n",
    "d = np.diff(np.unique(vegas_stars)).min()\n",
    "left_of_first_bin = np.min(vegas_stars) - float(d)/2\n",
    "right_of_last_bin = np.max(vegas_stars) + float(d)/2\n",
    "plt.hist(vegas_stars, np.arange(left_of_first_bin, right_of_last_bin +d, d))\n",
    "plt.show()\n",
    "\n",
    "nstars=[]\n",
    "for i in range(0,len(vegas_stars)):\n",
    "    #print(i)\n",
    "    nstars.append((vegas_stars[i]-mean)/std)\n",
    "\n",
    "print(\"After normalization \")\n",
    "print(\"Mean \",np.mean(nstars))\n",
    "print(\"SD \",np.std(nstars))\n",
    "\n",
    "d = np.diff(np.unique(nstars)).min()\n",
    "left_of_first_bin = np.min(nstars) - float(d)/2\n",
    "right_of_last_bin = np.max(nstars) + float(d)/2\n",
    "plt.hist(nstars, np.arange(left_of_first_bin, right_of_last_bin +d, d))\n",
    "plt.show()"
   ]
  },
  {
   "cell_type": "code",
   "execution_count": 15,
   "metadata": {},
   "outputs": [
    {
     "name": "stdout",
     "output_type": "stream",
     "text": [
      "Price ratings\n",
      "1.6184947958366693\n",
      "0.6581667186840061\n"
     ]
    },
    {
     "data": {
      "image/png": "[encoded data removed]",
      "text/plain": [
       "<Figure size 432x288 with 1 Axes>"
      ]
     },
     "metadata": {
      "needs_background": "light"
     },
     "output_type": "display_data"
    },
    {
     "data": {
      "image/png": "[encoded data removed]",
      "text/plain": [
       "<Figure size 432x288 with 1 Axes>"
      ]
     },
     "metadata": {
      "needs_background": "light"
     },
     "output_type": "display_data"
    },
    {
     "name": "stdout",
     "output_type": "stream",
     "text": [
      "after normalzation\n",
      "Mean  1.1377786000962372e-17\n",
      "SD  1.0\n"
     ]
    },
    {
     "data": {
      "image/png": "[encoded data removed]",
      "text/plain": [
       "<Figure size 432x288 with 1 Axes>"
      ]
     },
     "metadata": {
      "needs_background": "light"
     },
     "output_type": "display_data"
    }
   ],
   "source": [
    "price=[]\n",
    "for i,j in vdf.iterrows():\n",
    "     if(j['attributes'] is not None and 'RestaurantsPriceRange2' in j['attributes'].keys()):\n",
    "        price.append(int(j['attributes']['RestaurantsPriceRange2']))\n",
    "       \n",
    "    \n",
    "print(\"Price ratings\")\n",
    "print(np.mean(price))\n",
    "print(np.std(price))\n",
    "pmean=np.mean(price)\n",
    "pstd=np.std(price)\n",
    "plt.hist(price)\n",
    "plt.show()\n",
    "d = np.diff(np.unique(price)).min()\n",
    "left_of_first_bin = np.min(price) - float(d)/2\n",
    "right_of_last_bin = np.max(price) + float(d)/2\n",
    "plt.hist(price, np.arange(left_of_first_bin, right_of_last_bin +d, d))\n",
    "plt.show()\n",
    "\n",
    "nprice=[]\n",
    "for i in range(0,len(price)):\n",
    "    #print(i)\n",
    "    nprice.append((price[i]-pmean)/pstd)\n",
    "\n",
    "print(\"after normalzation\")\n",
    "print(\"Mean \",np.mean(nprice))\n",
    "print(\"SD \",np.std(nprice))\n",
    "d = np.diff(np.unique(nprice)).min()\n",
    "left_of_first_bin = np.min(nprice) - float(d)/2\n",
    "right_of_last_bin = np.max(nprice) + float(d)/2\n",
    "plt.hist(nprice, np.arange(left_of_first_bin, right_of_last_bin +d, d))\n",
    "plt.show()"
   ]
  },
  {
   "cell_type": "code",
   "execution_count": 17,
   "metadata": {},
   "outputs": [
    {
     "name": "stdout",
     "output_type": "stream",
     "text": [
      "(7896, 15)\n"
     ]
    }
   ],
   "source": [
    "#Removing rows with only 'Food'/'Restaurants'/'Grocery' categories\n",
    "def cleanCategories(l):\n",
    "    if('Restaurants' in l):\n",
    "        l.remove('Restaurants')\n",
    "    if('Food' in l):\n",
    "        l.remove('Food')\n",
    "    if('Grocery' in l):\n",
    "        l.remove('Grocery')\n",
    "    \n",
    "vdf['categories'].apply(cleanCategories)\n",
    "vdf=vdf[vdf.astype(str)['categories'] != '[]']\n",
    "print(vdf.shape)\n"
   ]
  }
 ],
 "metadata": {
  "kernelspec": {
   "display_name": "Python 3",
   "language": "python",
   "name": "python3"
  },
  "language_info": {
   "codemirror_mode": {
    "name": "ipython",
    "version": 3
   },
   "file_extension": ".py",
   "mimetype": "text/x-python",
   "name": "python",
   "nbconvert_exporter": "python",
   "pygments_lexer": "ipython3",
   "version": "3.6.4"
  }
 },
 "nbformat": 4,
 "nbformat_minor": 2
}
